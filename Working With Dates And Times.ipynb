{
 "cells": [
  {
   "cell_type": "code",
   "execution_count": 1,
   "metadata": {},
   "outputs": [],
   "source": [
    "import pandas as pd\n",
    "import datetime as dt"
   ]
  },
  {
   "cell_type": "markdown",
   "metadata": {},
   "source": [
    "### Python date and datetime object"
   ]
  },
  {
   "cell_type": "code",
   "execution_count": 2,
   "metadata": {},
   "outputs": [
    {
     "data": {
      "text/plain": [
       "datetime.date(2021, 3, 7)"
      ]
     },
     "execution_count": 2,
     "metadata": {},
     "output_type": "execute_result"
    }
   ],
   "source": [
    "date=dt.date(2021,3,7)\n",
    "\n",
    "date"
   ]
  },
  {
   "cell_type": "code",
   "execution_count": 3,
   "metadata": {},
   "outputs": [
    {
     "data": {
      "text/plain": [
       "2021"
      ]
     },
     "execution_count": 3,
     "metadata": {},
     "output_type": "execute_result"
    }
   ],
   "source": [
    "date.year"
   ]
  },
  {
   "cell_type": "code",
   "execution_count": 4,
   "metadata": {},
   "outputs": [
    {
     "data": {
      "text/plain": [
       "3"
      ]
     },
     "execution_count": 4,
     "metadata": {},
     "output_type": "execute_result"
    }
   ],
   "source": [
    "date.month"
   ]
  },
  {
   "cell_type": "code",
   "execution_count": 5,
   "metadata": {},
   "outputs": [
    {
     "data": {
      "text/plain": [
       "7"
      ]
     },
     "execution_count": 5,
     "metadata": {},
     "output_type": "execute_result"
    }
   ],
   "source": [
    "date.day"
   ]
  },
  {
   "cell_type": "code",
   "execution_count": 6,
   "metadata": {},
   "outputs": [
    {
     "data": {
      "text/plain": [
       "datetime.datetime(2021, 3, 7, 0, 0)"
      ]
     },
     "execution_count": 6,
     "metadata": {},
     "output_type": "execute_result"
    }
   ],
   "source": [
    "date_time=dt.datetime(2021,3,7)\n",
    "\n",
    "date_time"
   ]
  },
  {
   "cell_type": "code",
   "execution_count": 7,
   "metadata": {},
   "outputs": [
    {
     "data": {
      "text/plain": [
       "0"
      ]
     },
     "execution_count": 7,
     "metadata": {},
     "output_type": "execute_result"
    }
   ],
   "source": [
    "date_time.hour"
   ]
  },
  {
   "cell_type": "code",
   "execution_count": 8,
   "metadata": {},
   "outputs": [
    {
     "data": {
      "text/plain": [
       "datetime.datetime(2021, 3, 7, 8, 15, 59)"
      ]
     },
     "execution_count": 8,
     "metadata": {},
     "output_type": "execute_result"
    }
   ],
   "source": [
    "date_time=dt.datetime(2021,3,7,8,15,59)\n",
    "\n",
    "date_time"
   ]
  },
  {
   "cell_type": "code",
   "execution_count": 9,
   "metadata": {},
   "outputs": [
    {
     "data": {
      "text/plain": [
       "8"
      ]
     },
     "execution_count": 9,
     "metadata": {},
     "output_type": "execute_result"
    }
   ],
   "source": [
    "date_time.hour"
   ]
  },
  {
   "cell_type": "code",
   "execution_count": 10,
   "metadata": {},
   "outputs": [
    {
     "data": {
      "text/plain": [
       "15"
      ]
     },
     "execution_count": 10,
     "metadata": {},
     "output_type": "execute_result"
    }
   ],
   "source": [
    "date_time.minute"
   ]
  },
  {
   "cell_type": "code",
   "execution_count": 11,
   "metadata": {},
   "outputs": [
    {
     "data": {
      "text/plain": [
       "59"
      ]
     },
     "execution_count": 11,
     "metadata": {},
     "output_type": "execute_result"
    }
   ],
   "source": [
    "date_time.second"
   ]
  },
  {
   "cell_type": "code",
   "execution_count": 12,
   "metadata": {},
   "outputs": [
    {
     "data": {
      "text/plain": [
       "'2021-03-07'"
      ]
     },
     "execution_count": 12,
     "metadata": {},
     "output_type": "execute_result"
    }
   ],
   "source": [
    "str(date)"
   ]
  },
  {
   "cell_type": "code",
   "execution_count": 13,
   "metadata": {},
   "outputs": [
    {
     "data": {
      "text/plain": [
       "'2021-03-07 08:15:59'"
      ]
     },
     "execution_count": 13,
     "metadata": {},
     "output_type": "execute_result"
    }
   ],
   "source": [
    "str(date_time)"
   ]
  },
  {
   "cell_type": "markdown",
   "metadata": {},
   "source": [
    "### Pandas Timestamp() object"
   ]
  },
  {
   "cell_type": "code",
   "execution_count": 14,
   "metadata": {},
   "outputs": [
    {
     "data": {
      "text/plain": [
       "Timestamp('2021-03-01 00:00:00')"
      ]
     },
     "execution_count": 14,
     "metadata": {},
     "output_type": "execute_result"
    }
   ],
   "source": [
    "pd.Timestamp('2021-03-01')"
   ]
  },
  {
   "cell_type": "code",
   "execution_count": 15,
   "metadata": {},
   "outputs": [
    {
     "data": {
      "text/plain": [
       "Timestamp('2021-02-03 00:00:00')"
      ]
     },
     "execution_count": 15,
     "metadata": {},
     "output_type": "execute_result"
    }
   ],
   "source": [
    "#If not clear, pandas will adopt mm/dd/yyyy format\n",
    "pd.Timestamp('02-03-2021')"
   ]
  },
  {
   "cell_type": "code",
   "execution_count": 16,
   "metadata": {},
   "outputs": [
    {
     "data": {
      "text/plain": [
       "Timestamp('2021-03-19 00:00:00')"
      ]
     },
     "execution_count": 16,
     "metadata": {},
     "output_type": "execute_result"
    }
   ],
   "source": [
    "pd.Timestamp('19-03-2021')"
   ]
  },
  {
   "cell_type": "code",
   "execution_count": 17,
   "metadata": {},
   "outputs": [
    {
     "data": {
      "text/plain": [
       "Timestamp('2021-03-03 00:00:00')"
      ]
     },
     "execution_count": 17,
     "metadata": {},
     "output_type": "execute_result"
    }
   ],
   "source": [
    "pd.Timestamp('2021/03/03')"
   ]
  },
  {
   "cell_type": "code",
   "execution_count": 18,
   "metadata": {},
   "outputs": [
    {
     "data": {
      "text/plain": [
       "Timestamp('2021-03-04 00:00:00')"
      ]
     },
     "execution_count": 18,
     "metadata": {},
     "output_type": "execute_result"
    }
   ],
   "source": [
    "pd.Timestamp(\"2021, 03, 04\")"
   ]
  },
  {
   "cell_type": "code",
   "execution_count": 19,
   "metadata": {},
   "outputs": [
    {
     "data": {
      "text/plain": [
       "Timestamp('2021-03-05 00:00:00')"
      ]
     },
     "execution_count": 19,
     "metadata": {},
     "output_type": "execute_result"
    }
   ],
   "source": [
    "pd.Timestamp('20210305')"
   ]
  },
  {
   "cell_type": "code",
   "execution_count": 20,
   "metadata": {},
   "outputs": [
    {
     "data": {
      "text/plain": [
       "Timestamp('2021-03-01 08:09:58')"
      ]
     },
     "execution_count": 20,
     "metadata": {},
     "output_type": "execute_result"
    }
   ],
   "source": [
    "pd.Timestamp('2021-03-01 08:09:58')"
   ]
  },
  {
   "cell_type": "code",
   "execution_count": 21,
   "metadata": {},
   "outputs": [
    {
     "data": {
      "text/plain": [
       "Timestamp('2021-03-01 20:09:58')"
      ]
     },
     "execution_count": 21,
     "metadata": {},
     "output_type": "execute_result"
    }
   ],
   "source": [
    "pd.Timestamp('2021-03-01 08:09:58 PM')"
   ]
  },
  {
   "cell_type": "code",
   "execution_count": 22,
   "metadata": {},
   "outputs": [
    {
     "data": {
      "text/plain": [
       "Timestamp('2021-03-04 00:00:00')"
      ]
     },
     "execution_count": 22,
     "metadata": {},
     "output_type": "execute_result"
    }
   ],
   "source": [
    "pd.Timestamp(dt.date(2021,3,4))"
   ]
  },
  {
   "cell_type": "code",
   "execution_count": 23,
   "metadata": {},
   "outputs": [
    {
     "data": {
      "text/plain": [
       "Timestamp('2021-03-04 09:20:45')"
      ]
     },
     "execution_count": 23,
     "metadata": {},
     "output_type": "execute_result"
    }
   ],
   "source": [
    "pd.Timestamp(dt.datetime(2021,3,4,9,20,45))"
   ]
  },
  {
   "cell_type": "markdown",
   "metadata": {},
   "source": [
    "### DatetimeIndex Object"
   ]
  },
  {
   "cell_type": "code",
   "execution_count": 24,
   "metadata": {},
   "outputs": [
    {
     "data": {
      "text/plain": [
       "DatetimeIndex(['2021-01-01', '2021-01-02', '2021-01-03'], dtype='datetime64[ns]', freq=None)"
      ]
     },
     "execution_count": 24,
     "metadata": {},
     "output_type": "execute_result"
    }
   ],
   "source": [
    "dates = [\"2021-01-01\", \"2021-01-02\", \"2021-01-03\"]\n",
    "\n",
    "pd.DatetimeIndex(dates)"
   ]
  },
  {
   "cell_type": "code",
   "execution_count": 25,
   "metadata": {},
   "outputs": [
    {
     "data": {
      "text/plain": [
       "Timestamp('2021-01-01 00:00:00')"
      ]
     },
     "execution_count": 25,
     "metadata": {},
     "output_type": "execute_result"
    }
   ],
   "source": [
    "pd.DatetimeIndex(dates)[0]"
   ]
  },
  {
   "cell_type": "code",
   "execution_count": 26,
   "metadata": {},
   "outputs": [
    {
     "data": {
      "text/plain": [
       "Timestamp('2021-01-02 00:00:00')"
      ]
     },
     "execution_count": 26,
     "metadata": {},
     "output_type": "execute_result"
    }
   ],
   "source": [
    "pd.DatetimeIndex(dates)[1]"
   ]
  },
  {
   "cell_type": "code",
   "execution_count": 27,
   "metadata": {},
   "outputs": [
    {
     "data": {
      "text/plain": [
       "DatetimeIndex(['2021-02-01', '2021-02-02', '2021-02-03'], dtype='datetime64[ns]', freq=None)"
      ]
     },
     "execution_count": 27,
     "metadata": {},
     "output_type": "execute_result"
    }
   ],
   "source": [
    "dates_1 = [\"2021-02-01\", \"20210202\", \"2021/02/03\"]\n",
    "\n",
    "pd.DatetimeIndex(dates_1)"
   ]
  },
  {
   "cell_type": "code",
   "execution_count": 28,
   "metadata": {},
   "outputs": [
    {
     "data": {
      "text/plain": [
       "Timestamp('2021-02-01 00:00:00')"
      ]
     },
     "execution_count": 28,
     "metadata": {},
     "output_type": "execute_result"
    }
   ],
   "source": [
    "pd.DatetimeIndex(dates_1)[0]"
   ]
  },
  {
   "cell_type": "code",
   "execution_count": 29,
   "metadata": {},
   "outputs": [
    {
     "data": {
      "text/plain": [
       "DatetimeIndex(['2021-03-01', '2021-03-02', '2021-03-03'], dtype='datetime64[ns]', freq=None)"
      ]
     },
     "execution_count": 29,
     "metadata": {},
     "output_type": "execute_result"
    }
   ],
   "source": [
    "dates_2 = [dt.date(2021,3,1),dt.date(2021,3,2),dt.date(2021,3,3)]\n",
    "\n",
    "pd.DatetimeIndex(dates_2)"
   ]
  },
  {
   "cell_type": "code",
   "execution_count": 30,
   "metadata": {},
   "outputs": [
    {
     "data": {
      "text/plain": [
       "Timestamp('2021-03-01 00:00:00')"
      ]
     },
     "execution_count": 30,
     "metadata": {},
     "output_type": "execute_result"
    }
   ],
   "source": [
    "pd.DatetimeIndex(dates_2)[0]"
   ]
  },
  {
   "cell_type": "code",
   "execution_count": 31,
   "metadata": {},
   "outputs": [
    {
     "data": {
      "text/plain": [
       "2021-02-01    100\n",
       "2021-02-02    200\n",
       "2021-02-03    300\n",
       "dtype: int64"
      ]
     },
     "execution_count": 31,
     "metadata": {},
     "output_type": "execute_result"
    }
   ],
   "source": [
    "date_list = [\"2021-02-01\", \"20210202\", \"2021/02/03\"]\n",
    "values = [100, 200, 300]\n",
    "\n",
    "dates = pd.DatetimeIndex(date_list)\n",
    "\n",
    "pd.Series(data = values, index=dates)"
   ]
  },
  {
   "cell_type": "markdown",
   "metadata": {},
   "source": [
    "### pd.to_datetime() Method"
   ]
  },
  {
   "cell_type": "code",
   "execution_count": 32,
   "metadata": {},
   "outputs": [
    {
     "data": {
      "text/plain": [
       "Timestamp('2021-03-01 00:00:00')"
      ]
     },
     "execution_count": 32,
     "metadata": {},
     "output_type": "execute_result"
    }
   ],
   "source": [
    "pd.to_datetime('2021-03-01')"
   ]
  },
  {
   "cell_type": "code",
   "execution_count": 33,
   "metadata": {},
   "outputs": [
    {
     "data": {
      "text/plain": [
       "Timestamp('2021-03-02 00:00:00')"
      ]
     },
     "execution_count": 33,
     "metadata": {},
     "output_type": "execute_result"
    }
   ],
   "source": [
    "pd.to_datetime(dt.date(2021,3,2))"
   ]
  },
  {
   "cell_type": "code",
   "execution_count": 34,
   "metadata": {},
   "outputs": [
    {
     "data": {
      "text/plain": [
       "Timestamp('2021-03-02 10:15:39')"
      ]
     },
     "execution_count": 34,
     "metadata": {},
     "output_type": "execute_result"
    }
   ],
   "source": [
    "pd.to_datetime(dt.datetime(2021,3,2,10,15,39))"
   ]
  },
  {
   "cell_type": "code",
   "execution_count": 35,
   "metadata": {},
   "outputs": [
    {
     "data": {
      "text/plain": [
       "DatetimeIndex(['2021-03-01', '2021-03-01', '2021-03-01', '2021-01-01',\n",
       "               '2021-03-01'],\n",
       "              dtype='datetime64[ns]', freq=None)"
      ]
     },
     "execution_count": 35,
     "metadata": {},
     "output_type": "execute_result"
    }
   ],
   "source": [
    "pd.to_datetime(['2021-03-01', '20210301', '2021/03/01', '2021', 'March 1st, 2021'])"
   ]
  },
  {
   "cell_type": "code",
   "execution_count": 36,
   "metadata": {},
   "outputs": [
    {
     "data": {
      "text/plain": [
       "0         2021-03-01\n",
       "1           20210301\n",
       "2         2021/03/01\n",
       "3               2021\n",
       "4    March 1st, 2021\n",
       "dtype: object"
      ]
     },
     "execution_count": 36,
     "metadata": {},
     "output_type": "execute_result"
    }
   ],
   "source": [
    "series = pd.Series(['2021-03-01', '20210301', '2021/03/01', '2021', 'March 1st, 2021'])\n",
    "\n",
    "series"
   ]
  },
  {
   "cell_type": "code",
   "execution_count": 37,
   "metadata": {},
   "outputs": [
    {
     "data": {
      "text/plain": [
       "0   2021-03-01\n",
       "1   2021-03-01\n",
       "2   2021-03-01\n",
       "3   2021-01-01\n",
       "4   2021-03-01\n",
       "dtype: datetime64[ns]"
      ]
     },
     "execution_count": 37,
     "metadata": {},
     "output_type": "execute_result"
    }
   ],
   "source": [
    "pd.to_datetime(series)"
   ]
  },
  {
   "cell_type": "code",
   "execution_count": 38,
   "metadata": {},
   "outputs": [
    {
     "data": {
      "text/plain": [
       "0         2021/03/01\n",
       "1               2021\n",
       "2    March 1st, 2021\n",
       "3              Hello\n",
       "dtype: object"
      ]
     },
     "execution_count": 38,
     "metadata": {},
     "output_type": "execute_result"
    }
   ],
   "source": [
    "series = pd.Series(['2021/03/01', '2021', 'March 1st, 2021', 'Hello'])\n",
    "\n",
    "series"
   ]
  },
  {
   "cell_type": "code",
   "execution_count": 39,
   "metadata": {},
   "outputs": [
    {
     "data": {
      "text/plain": [
       "0         2021/03/01\n",
       "1               2021\n",
       "2    March 1st, 2021\n",
       "3              Hello\n",
       "dtype: object"
      ]
     },
     "execution_count": 39,
     "metadata": {},
     "output_type": "execute_result"
    }
   ],
   "source": [
    "#errors='raise' will throw error while errors='ignore' will not\n",
    "pd.to_datetime(series, errors='ignore')"
   ]
  },
  {
   "cell_type": "code",
   "execution_count": 40,
   "metadata": {},
   "outputs": [
    {
     "data": {
      "text/plain": [
       "0   2021-03-01\n",
       "1   2021-01-01\n",
       "2   2021-03-01\n",
       "3          NaT\n",
       "dtype: datetime64[ns]"
      ]
     },
     "execution_count": 40,
     "metadata": {},
     "output_type": "execute_result"
    }
   ],
   "source": [
    "#errors='coerce' will print NaT wherever there is an error in data\n",
    "pd.to_datetime(series, errors='coerce')"
   ]
  },
  {
   "cell_type": "code",
   "execution_count": 41,
   "metadata": {},
   "outputs": [
    {
     "data": {
      "text/plain": [
       "Timestamp('1970-01-15 08:14:43')"
      ]
     },
     "execution_count": 41,
     "metadata": {},
     "output_type": "execute_result"
    }
   ],
   "source": [
    "#to use unix time where date is represented as number of seconds\n",
    "\n",
    "pd.to_datetime(1239283, unit='s')"
   ]
  },
  {
   "cell_type": "code",
   "execution_count": 42,
   "metadata": {},
   "outputs": [
    {
     "data": {
      "text/plain": [
       "DatetimeIndex(['1970-01-15 08:14:43', '2010-09-19 11:14:54',\n",
       "               '1970-09-23 12:09:54'],\n",
       "              dtype='datetime64[ns]', freq=None)"
      ]
     },
     "execution_count": 42,
     "metadata": {},
     "output_type": "execute_result"
    }
   ],
   "source": [
    "pd.to_datetime([1239283,1284894894, 22939794], unit='s')"
   ]
  },
  {
   "cell_type": "markdown",
   "metadata": {},
   "source": [
    "### Create range of Dates with pd.date_range() method"
   ]
  },
  {
   "cell_type": "code",
   "execution_count": 43,
   "metadata": {},
   "outputs": [
    {
     "data": {
      "text/plain": [
       "DatetimeIndex(['2021-01-01', '2021-01-02', '2021-01-03', '2021-01-04',\n",
       "               '2021-01-05', '2021-01-06', '2021-01-07', '2021-01-08',\n",
       "               '2021-01-09', '2021-01-10',\n",
       "               ...\n",
       "               '2021-05-22', '2021-05-23', '2021-05-24', '2021-05-25',\n",
       "               '2021-05-26', '2021-05-27', '2021-05-28', '2021-05-29',\n",
       "               '2021-05-30', '2021-05-31'],\n",
       "              dtype='datetime64[ns]', length=151, freq='D')"
      ]
     },
     "execution_count": 43,
     "metadata": {},
     "output_type": "execute_result"
    }
   ],
   "source": [
    "pd.date_range('2021-01-01', '2021-05-31')"
   ]
  },
  {
   "cell_type": "code",
   "execution_count": 44,
   "metadata": {},
   "outputs": [
    {
     "data": {
      "text/plain": [
       "DatetimeIndex(['2021-01-01', '2021-01-02', '2021-01-03', '2021-01-04',\n",
       "               '2021-01-05', '2021-01-06', '2021-01-07', '2021-01-08',\n",
       "               '2021-01-09', '2021-01-10',\n",
       "               ...\n",
       "               '2021-05-22', '2021-05-23', '2021-05-24', '2021-05-25',\n",
       "               '2021-05-26', '2021-05-27', '2021-05-28', '2021-05-29',\n",
       "               '2021-05-30', '2021-05-31'],\n",
       "              dtype='datetime64[ns]', length=151, freq='D')"
      ]
     },
     "execution_count": 44,
     "metadata": {},
     "output_type": "execute_result"
    }
   ],
   "source": [
    "pd.date_range('2021-01-01', '2021-05-31', freq='D')"
   ]
  },
  {
   "cell_type": "code",
   "execution_count": 45,
   "metadata": {},
   "outputs": [
    {
     "data": {
      "text/plain": [
       "DatetimeIndex(['2021-01-01', '2021-01-04', '2021-01-05', '2021-01-06',\n",
       "               '2021-01-07', '2021-01-08', '2021-01-11', '2021-01-12',\n",
       "               '2021-01-13', '2021-01-14',\n",
       "               ...\n",
       "               '2021-05-18', '2021-05-19', '2021-05-20', '2021-05-21',\n",
       "               '2021-05-24', '2021-05-25', '2021-05-26', '2021-05-27',\n",
       "               '2021-05-28', '2021-05-31'],\n",
       "              dtype='datetime64[ns]', length=107, freq='B')"
      ]
     },
     "execution_count": 45,
     "metadata": {},
     "output_type": "execute_result"
    }
   ],
   "source": [
    "#Print Business Dates\n",
    "pd.date_range('2021-01-01', '2021-05-31', freq='B')"
   ]
  },
  {
   "cell_type": "code",
   "execution_count": 46,
   "metadata": {},
   "outputs": [
    {
     "data": {
      "text/plain": [
       "Timestamp('2021-01-01 00:00:00', freq='D')"
      ]
     },
     "execution_count": 46,
     "metadata": {},
     "output_type": "execute_result"
    }
   ],
   "source": [
    "times = pd.date_range('2021-01-01', '2021-05-31')\n",
    "\n",
    "times[0]"
   ]
  },
  {
   "cell_type": "code",
   "execution_count": 47,
   "metadata": {},
   "outputs": [
    {
     "data": {
      "text/plain": [
       "DatetimeIndex(['2021-01-01', '2021-01-02', '2021-01-03', '2021-01-04',\n",
       "               '2021-01-05', '2021-01-06', '2021-01-07', '2021-01-08',\n",
       "               '2021-01-09', '2021-01-10',\n",
       "               ...\n",
       "               '2021-05-22', '2021-05-23', '2021-05-24', '2021-05-25',\n",
       "               '2021-05-26', '2021-05-27', '2021-05-28', '2021-05-29',\n",
       "               '2021-05-30', '2021-05-31'],\n",
       "              dtype='datetime64[ns]', length=151, freq='D')"
      ]
     },
     "execution_count": 47,
     "metadata": {},
     "output_type": "execute_result"
    }
   ],
   "source": [
    "pd.date_range('2021-01-01', '2021-05-31', freq='1D')"
   ]
  },
  {
   "cell_type": "code",
   "execution_count": 48,
   "metadata": {},
   "outputs": [
    {
     "data": {
      "text/plain": [
       "DatetimeIndex(['2021-01-01', '2021-01-06', '2021-01-11', '2021-01-16',\n",
       "               '2021-01-21', '2021-01-26', '2021-01-31', '2021-02-05',\n",
       "               '2021-02-10', '2021-02-15', '2021-02-20', '2021-02-25',\n",
       "               '2021-03-02', '2021-03-07', '2021-03-12', '2021-03-17',\n",
       "               '2021-03-22', '2021-03-27', '2021-04-01', '2021-04-06',\n",
       "               '2021-04-11', '2021-04-16', '2021-04-21', '2021-04-26',\n",
       "               '2021-05-01', '2021-05-06', '2021-05-11', '2021-05-16',\n",
       "               '2021-05-21', '2021-05-26', '2021-05-31'],\n",
       "              dtype='datetime64[ns]', freq='5D')"
      ]
     },
     "execution_count": 48,
     "metadata": {},
     "output_type": "execute_result"
    }
   ],
   "source": [
    "pd.date_range('2021-01-01', '2021-05-31', freq='5D')"
   ]
  },
  {
   "cell_type": "code",
   "execution_count": 49,
   "metadata": {},
   "outputs": [
    {
     "data": {
      "text/plain": [
       "DatetimeIndex(['2021-01-31', '2021-02-28', '2021-03-31', '2021-04-30',\n",
       "               '2021-05-31'],\n",
       "              dtype='datetime64[ns]', freq='M')"
      ]
     },
     "execution_count": 49,
     "metadata": {},
     "output_type": "execute_result"
    }
   ],
   "source": [
    "pd.date_range('2021-01-01', '2021-05-31', freq='1M')"
   ]
  },
  {
   "cell_type": "code",
   "execution_count": 50,
   "metadata": {},
   "outputs": [
    {
     "data": {
      "text/plain": [
       "DatetimeIndex(['2021-01-31', '2021-03-31', '2021-05-31'], dtype='datetime64[ns]', freq='2M')"
      ]
     },
     "execution_count": 50,
     "metadata": {},
     "output_type": "execute_result"
    }
   ],
   "source": [
    "pd.date_range('2021-01-01', '2021-05-31', freq='2M')"
   ]
  },
  {
   "cell_type": "code",
   "execution_count": 51,
   "metadata": {},
   "outputs": [
    {
     "data": {
      "text/plain": [
       "DatetimeIndex(['2021-01-01', '2021-02-01', '2021-03-01', '2021-04-01',\n",
       "               '2021-05-01'],\n",
       "              dtype='datetime64[ns]', freq='MS')"
      ]
     },
     "execution_count": 51,
     "metadata": {},
     "output_type": "execute_result"
    }
   ],
   "source": [
    "# 'MS' represents Month-Start. Default is Month-End\n",
    "pd.date_range('2021-01-01', '2021-05-31', freq='MS')"
   ]
  },
  {
   "cell_type": "code",
   "execution_count": 52,
   "metadata": {},
   "outputs": [
    {
     "data": {
      "text/plain": [
       "DatetimeIndex(['2021-01-03', '2021-01-17', '2021-01-31', '2021-02-14',\n",
       "               '2021-02-28', '2021-03-14', '2021-03-28', '2021-04-11',\n",
       "               '2021-04-25', '2021-05-09', '2021-05-23'],\n",
       "              dtype='datetime64[ns]', freq='2W-SUN')"
      ]
     },
     "execution_count": 52,
     "metadata": {},
     "output_type": "execute_result"
    }
   ],
   "source": [
    "pd.date_range('2021-01-01', '2021-05-31', freq='2W')"
   ]
  },
  {
   "cell_type": "code",
   "execution_count": 53,
   "metadata": {},
   "outputs": [
    {
     "data": {
      "text/plain": [
       "DatetimeIndex(['2021-01-04', '2021-01-18', '2021-02-01', '2021-02-15',\n",
       "               '2021-03-01', '2021-03-15', '2021-03-29', '2021-04-12',\n",
       "               '2021-04-26', '2021-05-10', '2021-05-24'],\n",
       "              dtype='datetime64[ns]', freq='2W-MON')"
      ]
     },
     "execution_count": 53,
     "metadata": {},
     "output_type": "execute_result"
    }
   ],
   "source": [
    "pd.date_range('2021-01-01', '2021-05-31', freq='2W-MON')"
   ]
  },
  {
   "cell_type": "code",
   "execution_count": 54,
   "metadata": {},
   "outputs": [
    {
     "data": {
      "text/plain": [
       "DatetimeIndex(['2021-01-01 00:00:00', '2021-01-01 06:00:00',\n",
       "               '2021-01-01 12:00:00', '2021-01-01 18:00:00',\n",
       "               '2021-01-02 00:00:00', '2021-01-02 06:00:00',\n",
       "               '2021-01-02 12:00:00', '2021-01-02 18:00:00',\n",
       "               '2021-01-03 00:00:00', '2021-01-03 06:00:00',\n",
       "               ...\n",
       "               '2021-05-28 18:00:00', '2021-05-29 00:00:00',\n",
       "               '2021-05-29 06:00:00', '2021-05-29 12:00:00',\n",
       "               '2021-05-29 18:00:00', '2021-05-30 00:00:00',\n",
       "               '2021-05-30 06:00:00', '2021-05-30 12:00:00',\n",
       "               '2021-05-30 18:00:00', '2021-05-31 00:00:00'],\n",
       "              dtype='datetime64[ns]', length=601, freq='6H')"
      ]
     },
     "execution_count": 54,
     "metadata": {},
     "output_type": "execute_result"
    }
   ],
   "source": [
    "pd.date_range('2021-01-01', '2021-05-31', freq='6H')"
   ]
  },
  {
   "cell_type": "code",
   "execution_count": 55,
   "metadata": {},
   "outputs": [
    {
     "data": {
      "text/plain": [
       "DatetimeIndex(['2021-12-31', '2022-12-31', '2023-12-31', '2024-12-31',\n",
       "               '2025-12-31', '2026-12-31', '2027-12-31', '2028-12-31',\n",
       "               '2029-12-31'],\n",
       "              dtype='datetime64[ns]', freq='A-DEC')"
      ]
     },
     "execution_count": 55,
     "metadata": {},
     "output_type": "execute_result"
    }
   ],
   "source": [
    "# Year End\n",
    "pd.date_range(start='2021-01-01', end='2030-05-31', freq='A')"
   ]
  },
  {
   "cell_type": "code",
   "execution_count": 56,
   "metadata": {},
   "outputs": [
    {
     "data": {
      "text/plain": [
       "DatetimeIndex(['2021-01-01', '2021-01-02', '2021-01-03', '2021-01-04',\n",
       "               '2021-01-05', '2021-01-06', '2021-01-07', '2021-01-08',\n",
       "               '2021-01-09', '2021-01-10'],\n",
       "              dtype='datetime64[ns]', freq='D')"
      ]
     },
     "execution_count": 56,
     "metadata": {},
     "output_type": "execute_result"
    }
   ],
   "source": [
    "pd.date_range(start='01-01-2021', periods=10)"
   ]
  },
  {
   "cell_type": "code",
   "execution_count": 57,
   "metadata": {},
   "outputs": [
    {
     "data": {
      "text/plain": [
       "DatetimeIndex(['2021-01-31', '2021-02-28', '2021-03-31', '2021-04-30',\n",
       "               '2021-05-31', '2021-06-30', '2021-07-31', '2021-08-31',\n",
       "               '2021-09-30', '2021-10-31'],\n",
       "              dtype='datetime64[ns]', freq='M')"
      ]
     },
     "execution_count": 57,
     "metadata": {},
     "output_type": "execute_result"
    }
   ],
   "source": [
    "pd.date_range(start='01-01-2021', periods=10, freq='M')"
   ]
  },
  {
   "cell_type": "code",
   "execution_count": 58,
   "metadata": {},
   "outputs": [
    {
     "data": {
      "text/plain": [
       "DatetimeIndex(['2021-03-31', '2021-04-30', '2021-05-31', '2021-06-30',\n",
       "               '2021-07-31', '2021-08-31', '2021-09-30', '2021-10-31',\n",
       "               '2021-11-30', '2021-12-31'],\n",
       "              dtype='datetime64[ns]', freq='M')"
      ]
     },
     "execution_count": 58,
     "metadata": {},
     "output_type": "execute_result"
    }
   ],
   "source": [
    "pd.date_range(end='31-12-2021', periods=10, freq='M')"
   ]
  },
  {
   "cell_type": "markdown",
   "metadata": {},
   "source": [
    "### .dt Accessor"
   ]
  },
  {
   "cell_type": "code",
   "execution_count": 59,
   "metadata": {},
   "outputs": [
    {
     "data": {
      "text/plain": [
       "DatetimeIndex(['2021-03-31', '2021-04-30', '2021-05-31', '2021-06-30',\n",
       "               '2021-07-31', '2021-08-31', '2021-09-30', '2021-10-31',\n",
       "               '2021-11-30', '2021-12-31'],\n",
       "              dtype='datetime64[ns]', freq='M')"
      ]
     },
     "execution_count": 59,
     "metadata": {},
     "output_type": "execute_result"
    }
   ],
   "source": [
    "#This is similar to .str accessor\n",
    "\n",
    "dates = pd.date_range(end='31-12-2021', periods=10, freq='M')\n",
    "\n",
    "dates"
   ]
  },
  {
   "cell_type": "code",
   "execution_count": 60,
   "metadata": {},
   "outputs": [
    {
     "data": {
      "text/plain": [
       "0   2021-03-31\n",
       "1   2021-04-30\n",
       "2   2021-05-31\n",
       "3   2021-06-30\n",
       "4   2021-07-31\n",
       "5   2021-08-31\n",
       "6   2021-09-30\n",
       "7   2021-10-31\n",
       "8   2021-11-30\n",
       "9   2021-12-31\n",
       "dtype: datetime64[ns]"
      ]
     },
     "execution_count": 60,
     "metadata": {},
     "output_type": "execute_result"
    }
   ],
   "source": [
    "series = pd.Series(dates)\n",
    "\n",
    "series"
   ]
  },
  {
   "cell_type": "code",
   "execution_count": 61,
   "metadata": {},
   "outputs": [
    {
     "data": {
      "text/plain": [
       "0    31\n",
       "1    30\n",
       "2    31\n",
       "3    30\n",
       "4    31\n",
       "5    31\n",
       "6    30\n",
       "7    31\n",
       "8    30\n",
       "9    31\n",
       "dtype: int64"
      ]
     },
     "execution_count": 61,
     "metadata": {},
     "output_type": "execute_result"
    }
   ],
   "source": [
    "series.dt.day"
   ]
  },
  {
   "cell_type": "code",
   "execution_count": 62,
   "metadata": {},
   "outputs": [
    {
     "data": {
      "text/plain": [
       "0    2021-03-31\n",
       "1    2021-04-30\n",
       "2    2021-05-31\n",
       "3    2021-06-30\n",
       "4    2021-07-31\n",
       "5    2021-08-31\n",
       "6    2021-09-30\n",
       "7    2021-10-31\n",
       "8    2021-11-30\n",
       "9    2021-12-31\n",
       "dtype: object"
      ]
     },
     "execution_count": 62,
     "metadata": {},
     "output_type": "execute_result"
    }
   ],
   "source": [
    "series.dt.date"
   ]
  },
  {
   "cell_type": "code",
   "execution_count": 63,
   "metadata": {},
   "outputs": [
    {
     "data": {
      "text/plain": [
       "0    2\n",
       "1    4\n",
       "2    0\n",
       "3    2\n",
       "4    5\n",
       "5    1\n",
       "6    3\n",
       "7    6\n",
       "8    1\n",
       "9    4\n",
       "dtype: int64"
      ]
     },
     "execution_count": 63,
     "metadata": {},
     "output_type": "execute_result"
    }
   ],
   "source": [
    "series.dt.dayofweek"
   ]
  },
  {
   "cell_type": "code",
   "execution_count": 64,
   "metadata": {},
   "outputs": [
    {
     "data": {
      "text/plain": [
       "0    True\n",
       "1    True\n",
       "2    True\n",
       "3    True\n",
       "4    True\n",
       "5    True\n",
       "6    True\n",
       "7    True\n",
       "8    True\n",
       "9    True\n",
       "dtype: bool"
      ]
     },
     "execution_count": 64,
     "metadata": {},
     "output_type": "execute_result"
    }
   ],
   "source": [
    "series.dt.is_month_end"
   ]
  },
  {
   "cell_type": "code",
   "execution_count": 65,
   "metadata": {},
   "outputs": [
    {
     "data": {
      "text/plain": [
       "0    False\n",
       "1    False\n",
       "2    False\n",
       "3    False\n",
       "4    False\n",
       "5    False\n",
       "6    False\n",
       "7    False\n",
       "8    False\n",
       "9    False\n",
       "dtype: bool"
      ]
     },
     "execution_count": 65,
     "metadata": {},
     "output_type": "execute_result"
    }
   ],
   "source": [
    "series.dt.is_quarter_start"
   ]
  },
  {
   "cell_type": "code",
   "execution_count": 66,
   "metadata": {},
   "outputs": [
    {
     "data": {
      "text/plain": [
       "0   2021-03-31\n",
       "1   2021-04-30\n",
       "2   2021-05-31\n",
       "3   2021-06-30\n",
       "4   2021-07-31\n",
       "5   2021-08-31\n",
       "6   2021-09-30\n",
       "7   2021-10-31\n",
       "8   2021-11-30\n",
       "9   2021-12-31\n",
       "dtype: datetime64[ns]"
      ]
     },
     "execution_count": 66,
     "metadata": {},
     "output_type": "execute_result"
    }
   ],
   "source": [
    "series[series.dt.is_month_end]"
   ]
  },
  {
   "cell_type": "markdown",
   "metadata": {},
   "source": [
    "### Pandas Datareader"
   ]
  },
  {
   "cell_type": "code",
   "execution_count": 67,
   "metadata": {},
   "outputs": [],
   "source": [
    "#pip install pandas-datareader\n",
    "\n",
    "from pandas_datareader import data"
   ]
  },
  {
   "cell_type": "code",
   "execution_count": 68,
   "metadata": {},
   "outputs": [
    {
     "data": {
      "text/html": [
       "<div>\n",
       "<style scoped>\n",
       "    .dataframe tbody tr th:only-of-type {\n",
       "        vertical-align: middle;\n",
       "    }\n",
       "\n",
       "    .dataframe tbody tr th {\n",
       "        vertical-align: top;\n",
       "    }\n",
       "\n",
       "    .dataframe thead th {\n",
       "        text-align: right;\n",
       "    }\n",
       "</style>\n",
       "<table border=\"1\" class=\"dataframe\">\n",
       "  <thead>\n",
       "    <tr style=\"text-align: right;\">\n",
       "      <th></th>\n",
       "      <th>High</th>\n",
       "      <th>Low</th>\n",
       "      <th>Open</th>\n",
       "      <th>Close</th>\n",
       "      <th>Volume</th>\n",
       "      <th>Adj Close</th>\n",
       "    </tr>\n",
       "    <tr>\n",
       "      <th>Date</th>\n",
       "      <th></th>\n",
       "      <th></th>\n",
       "      <th></th>\n",
       "      <th></th>\n",
       "      <th></th>\n",
       "      <th></th>\n",
       "    </tr>\n",
       "  </thead>\n",
       "  <tbody>\n",
       "    <tr>\n",
       "      <th>2016-03-07</th>\n",
       "      <td>51.799999</td>\n",
       "      <td>50.580002</td>\n",
       "      <td>51.560001</td>\n",
       "      <td>51.029999</td>\n",
       "      <td>38407800.0</td>\n",
       "      <td>46.793064</td>\n",
       "    </tr>\n",
       "    <tr>\n",
       "      <th>2016-03-08</th>\n",
       "      <td>52.130001</td>\n",
       "      <td>50.599998</td>\n",
       "      <td>50.799999</td>\n",
       "      <td>51.650002</td>\n",
       "      <td>33835100.0</td>\n",
       "      <td>47.361591</td>\n",
       "    </tr>\n",
       "    <tr>\n",
       "      <th>2016-03-09</th>\n",
       "      <td>52.849998</td>\n",
       "      <td>51.860001</td>\n",
       "      <td>51.889999</td>\n",
       "      <td>52.840000</td>\n",
       "      <td>28251600.0</td>\n",
       "      <td>48.452789</td>\n",
       "    </tr>\n",
       "    <tr>\n",
       "      <th>2016-03-10</th>\n",
       "      <td>52.939999</td>\n",
       "      <td>51.160000</td>\n",
       "      <td>52.930000</td>\n",
       "      <td>52.049999</td>\n",
       "      <td>38387800.0</td>\n",
       "      <td>47.728374</td>\n",
       "    </tr>\n",
       "    <tr>\n",
       "      <th>2016-03-11</th>\n",
       "      <td>53.070000</td>\n",
       "      <td>52.380001</td>\n",
       "      <td>53.000000</td>\n",
       "      <td>53.070000</td>\n",
       "      <td>32275700.0</td>\n",
       "      <td>48.663696</td>\n",
       "    </tr>\n",
       "    <tr>\n",
       "      <th>...</th>\n",
       "      <td>...</td>\n",
       "      <td>...</td>\n",
       "      <td>...</td>\n",
       "      <td>...</td>\n",
       "      <td>...</td>\n",
       "      <td>...</td>\n",
       "    </tr>\n",
       "    <tr>\n",
       "      <th>2021-03-01</th>\n",
       "      <td>237.470001</td>\n",
       "      <td>233.149994</td>\n",
       "      <td>235.899994</td>\n",
       "      <td>236.940002</td>\n",
       "      <td>25324000.0</td>\n",
       "      <td>236.940002</td>\n",
       "    </tr>\n",
       "    <tr>\n",
       "      <th>2021-03-02</th>\n",
       "      <td>237.300003</td>\n",
       "      <td>233.449997</td>\n",
       "      <td>237.009995</td>\n",
       "      <td>233.869995</td>\n",
       "      <td>22785500.0</td>\n",
       "      <td>233.869995</td>\n",
       "    </tr>\n",
       "    <tr>\n",
       "      <th>2021-03-03</th>\n",
       "      <td>233.580002</td>\n",
       "      <td>227.259995</td>\n",
       "      <td>232.160004</td>\n",
       "      <td>227.559998</td>\n",
       "      <td>33950400.0</td>\n",
       "      <td>227.559998</td>\n",
       "    </tr>\n",
       "    <tr>\n",
       "      <th>2021-03-04</th>\n",
       "      <td>232.490005</td>\n",
       "      <td>224.259995</td>\n",
       "      <td>226.740005</td>\n",
       "      <td>226.729996</td>\n",
       "      <td>44584200.0</td>\n",
       "      <td>226.729996</td>\n",
       "    </tr>\n",
       "    <tr>\n",
       "      <th>2021-03-05</th>\n",
       "      <td>233.270004</td>\n",
       "      <td>226.460007</td>\n",
       "      <td>229.520004</td>\n",
       "      <td>231.600006</td>\n",
       "      <td>41842100.0</td>\n",
       "      <td>231.600006</td>\n",
       "    </tr>\n",
       "  </tbody>\n",
       "</table>\n",
       "<p>1259 rows × 6 columns</p>\n",
       "</div>"
      ],
      "text/plain": [
       "                  High         Low        Open       Close      Volume  \\\n",
       "Date                                                                     \n",
       "2016-03-07   51.799999   50.580002   51.560001   51.029999  38407800.0   \n",
       "2016-03-08   52.130001   50.599998   50.799999   51.650002  33835100.0   \n",
       "2016-03-09   52.849998   51.860001   51.889999   52.840000  28251600.0   \n",
       "2016-03-10   52.939999   51.160000   52.930000   52.049999  38387800.0   \n",
       "2016-03-11   53.070000   52.380001   53.000000   53.070000  32275700.0   \n",
       "...                ...         ...         ...         ...         ...   \n",
       "2021-03-01  237.470001  233.149994  235.899994  236.940002  25324000.0   \n",
       "2021-03-02  237.300003  233.449997  237.009995  233.869995  22785500.0   \n",
       "2021-03-03  233.580002  227.259995  232.160004  227.559998  33950400.0   \n",
       "2021-03-04  232.490005  224.259995  226.740005  226.729996  44584200.0   \n",
       "2021-03-05  233.270004  226.460007  229.520004  231.600006  41842100.0   \n",
       "\n",
       "             Adj Close  \n",
       "Date                    \n",
       "2016-03-07   46.793064  \n",
       "2016-03-08   47.361591  \n",
       "2016-03-09   48.452789  \n",
       "2016-03-10   47.728374  \n",
       "2016-03-11   48.663696  \n",
       "...                ...  \n",
       "2021-03-01  236.940002  \n",
       "2021-03-02  233.869995  \n",
       "2021-03-03  227.559998  \n",
       "2021-03-04  226.729996  \n",
       "2021-03-05  231.600006  \n",
       "\n",
       "[1259 rows x 6 columns]"
      ]
     },
     "execution_count": 68,
     "metadata": {},
     "output_type": "execute_result"
    }
   ],
   "source": [
    "data.DataReader(name = 'MSFT', data_source='yahoo')"
   ]
  },
  {
   "cell_type": "code",
   "execution_count": 69,
   "metadata": {},
   "outputs": [
    {
     "data": {
      "text/html": [
       "<div>\n",
       "<style scoped>\n",
       "    .dataframe tbody tr th:only-of-type {\n",
       "        vertical-align: middle;\n",
       "    }\n",
       "\n",
       "    .dataframe tbody tr th {\n",
       "        vertical-align: top;\n",
       "    }\n",
       "\n",
       "    .dataframe thead th {\n",
       "        text-align: right;\n",
       "    }\n",
       "</style>\n",
       "<table border=\"1\" class=\"dataframe\">\n",
       "  <thead>\n",
       "    <tr style=\"text-align: right;\">\n",
       "      <th></th>\n",
       "      <th>High</th>\n",
       "      <th>Low</th>\n",
       "      <th>Open</th>\n",
       "      <th>Close</th>\n",
       "      <th>Volume</th>\n",
       "      <th>Adj Close</th>\n",
       "    </tr>\n",
       "    <tr>\n",
       "      <th>Date</th>\n",
       "      <th></th>\n",
       "      <th></th>\n",
       "      <th></th>\n",
       "      <th></th>\n",
       "      <th></th>\n",
       "      <th></th>\n",
       "    </tr>\n",
       "  </thead>\n",
       "  <tbody>\n",
       "    <tr>\n",
       "      <th>1999-12-31</th>\n",
       "      <td>58.875000</td>\n",
       "      <td>58.125000</td>\n",
       "      <td>58.750000</td>\n",
       "      <td>58.375000</td>\n",
       "      <td>12517600.0</td>\n",
       "      <td>37.076923</td>\n",
       "    </tr>\n",
       "    <tr>\n",
       "      <th>2000-01-03</th>\n",
       "      <td>59.312500</td>\n",
       "      <td>56.000000</td>\n",
       "      <td>58.687500</td>\n",
       "      <td>58.281250</td>\n",
       "      <td>53228400.0</td>\n",
       "      <td>37.017384</td>\n",
       "    </tr>\n",
       "    <tr>\n",
       "      <th>2000-01-04</th>\n",
       "      <td>58.562500</td>\n",
       "      <td>56.125000</td>\n",
       "      <td>56.781250</td>\n",
       "      <td>56.312500</td>\n",
       "      <td>54119000.0</td>\n",
       "      <td>35.766914</td>\n",
       "    </tr>\n",
       "    <tr>\n",
       "      <th>2000-01-05</th>\n",
       "      <td>58.187500</td>\n",
       "      <td>54.687500</td>\n",
       "      <td>55.562500</td>\n",
       "      <td>56.906250</td>\n",
       "      <td>64059600.0</td>\n",
       "      <td>36.144032</td>\n",
       "    </tr>\n",
       "    <tr>\n",
       "      <th>2000-01-06</th>\n",
       "      <td>56.937500</td>\n",
       "      <td>54.187500</td>\n",
       "      <td>56.093750</td>\n",
       "      <td>55.000000</td>\n",
       "      <td>54976600.0</td>\n",
       "      <td>34.933285</td>\n",
       "    </tr>\n",
       "    <tr>\n",
       "      <th>...</th>\n",
       "      <td>...</td>\n",
       "      <td>...</td>\n",
       "      <td>...</td>\n",
       "      <td>...</td>\n",
       "      <td>...</td>\n",
       "      <td>...</td>\n",
       "    </tr>\n",
       "    <tr>\n",
       "      <th>2020-12-24</th>\n",
       "      <td>223.610001</td>\n",
       "      <td>221.199997</td>\n",
       "      <td>221.419998</td>\n",
       "      <td>222.750000</td>\n",
       "      <td>10550600.0</td>\n",
       "      <td>222.238144</td>\n",
       "    </tr>\n",
       "    <tr>\n",
       "      <th>2020-12-28</th>\n",
       "      <td>226.029999</td>\n",
       "      <td>223.020004</td>\n",
       "      <td>224.449997</td>\n",
       "      <td>224.960007</td>\n",
       "      <td>17933500.0</td>\n",
       "      <td>224.443069</td>\n",
       "    </tr>\n",
       "    <tr>\n",
       "      <th>2020-12-29</th>\n",
       "      <td>227.179993</td>\n",
       "      <td>223.580002</td>\n",
       "      <td>226.309998</td>\n",
       "      <td>224.149994</td>\n",
       "      <td>17403200.0</td>\n",
       "      <td>223.634918</td>\n",
       "    </tr>\n",
       "    <tr>\n",
       "      <th>2020-12-30</th>\n",
       "      <td>225.630005</td>\n",
       "      <td>221.470001</td>\n",
       "      <td>225.229996</td>\n",
       "      <td>221.679993</td>\n",
       "      <td>20272300.0</td>\n",
       "      <td>221.170593</td>\n",
       "    </tr>\n",
       "    <tr>\n",
       "      <th>2020-12-31</th>\n",
       "      <td>223.000000</td>\n",
       "      <td>219.679993</td>\n",
       "      <td>221.699997</td>\n",
       "      <td>222.419998</td>\n",
       "      <td>20942100.0</td>\n",
       "      <td>221.908905</td>\n",
       "    </tr>\n",
       "  </tbody>\n",
       "</table>\n",
       "<p>5285 rows × 6 columns</p>\n",
       "</div>"
      ],
      "text/plain": [
       "                  High         Low        Open       Close      Volume  \\\n",
       "Date                                                                     \n",
       "1999-12-31   58.875000   58.125000   58.750000   58.375000  12517600.0   \n",
       "2000-01-03   59.312500   56.000000   58.687500   58.281250  53228400.0   \n",
       "2000-01-04   58.562500   56.125000   56.781250   56.312500  54119000.0   \n",
       "2000-01-05   58.187500   54.687500   55.562500   56.906250  64059600.0   \n",
       "2000-01-06   56.937500   54.187500   56.093750   55.000000  54976600.0   \n",
       "...                ...         ...         ...         ...         ...   \n",
       "2020-12-24  223.610001  221.199997  221.419998  222.750000  10550600.0   \n",
       "2020-12-28  226.029999  223.020004  224.449997  224.960007  17933500.0   \n",
       "2020-12-29  227.179993  223.580002  226.309998  224.149994  17403200.0   \n",
       "2020-12-30  225.630005  221.470001  225.229996  221.679993  20272300.0   \n",
       "2020-12-31  223.000000  219.679993  221.699997  222.419998  20942100.0   \n",
       "\n",
       "             Adj Close  \n",
       "Date                    \n",
       "1999-12-31   37.076923  \n",
       "2000-01-03   37.017384  \n",
       "2000-01-04   35.766914  \n",
       "2000-01-05   36.144032  \n",
       "2000-01-06   34.933285  \n",
       "...                ...  \n",
       "2020-12-24  222.238144  \n",
       "2020-12-28  224.443069  \n",
       "2020-12-29  223.634918  \n",
       "2020-12-30  221.170593  \n",
       "2020-12-31  221.908905  \n",
       "\n",
       "[5285 rows x 6 columns]"
      ]
     },
     "execution_count": 69,
     "metadata": {},
     "output_type": "execute_result"
    }
   ],
   "source": [
    "stocks = data.DataReader(name = 'MSFT', data_source='yahoo', start='2000-01-01', end='2020-12-31')\n",
    "\n",
    "stocks"
   ]
  },
  {
   "cell_type": "code",
   "execution_count": 70,
   "metadata": {},
   "outputs": [
    {
     "data": {
      "text/plain": [
       "[DatetimeIndex(['1999-12-31', '2000-01-03', '2000-01-04', '2000-01-05',\n",
       "                '2000-01-06', '2000-01-07', '2000-01-10', '2000-01-11',\n",
       "                '2000-01-12', '2000-01-13',\n",
       "                ...\n",
       "                '2020-12-17', '2020-12-18', '2020-12-21', '2020-12-22',\n",
       "                '2020-12-23', '2020-12-24', '2020-12-28', '2020-12-29',\n",
       "                '2020-12-30', '2020-12-31'],\n",
       "               dtype='datetime64[ns]', name='Date', length=5285, freq=None),\n",
       " Index(['High', 'Low', 'Open', 'Close', 'Volume', 'Adj Close'], dtype='object')]"
      ]
     },
     "execution_count": 70,
     "metadata": {},
     "output_type": "execute_result"
    }
   ],
   "source": [
    "stocks.axes"
   ]
  },
  {
   "cell_type": "code",
   "execution_count": 71,
   "metadata": {},
   "outputs": [
    {
     "data": {
      "text/plain": [
       "High         1.017500e+02\n",
       "Low          9.894000e+01\n",
       "Open         9.955000e+01\n",
       "Close        1.011200e+02\n",
       "Volume       3.532930e+07\n",
       "Adj Close    9.837548e+01\n",
       "Name: 2019-01-02 00:00:00, dtype: float64"
      ]
     },
     "execution_count": 71,
     "metadata": {},
     "output_type": "execute_result"
    }
   ],
   "source": [
    "stocks.loc['2019-01-02']"
   ]
  },
  {
   "cell_type": "code",
   "execution_count": 72,
   "metadata": {},
   "outputs": [
    {
     "data": {
      "text/plain": [
       "High         1.017500e+02\n",
       "Low          9.894000e+01\n",
       "Open         9.955000e+01\n",
       "Close        1.011200e+02\n",
       "Volume       3.532930e+07\n",
       "Adj Close    9.837548e+01\n",
       "Name: 2019-01-02 00:00:00, dtype: float64"
      ]
     },
     "execution_count": 72,
     "metadata": {},
     "output_type": "execute_result"
    }
   ],
   "source": [
    "#Recommended\n",
    "\n",
    "stocks.loc[pd.Timestamp('2019-01-02')]"
   ]
  },
  {
   "cell_type": "code",
   "execution_count": 73,
   "metadata": {},
   "outputs": [
    {
     "data": {
      "text/plain": [
       "High         5.887500e+01\n",
       "Low          5.812500e+01\n",
       "Open         5.875000e+01\n",
       "Close        5.837500e+01\n",
       "Volume       1.251760e+07\n",
       "Adj Close    3.707692e+01\n",
       "Name: 1999-12-31 00:00:00, dtype: float64"
      ]
     },
     "execution_count": 73,
     "metadata": {},
     "output_type": "execute_result"
    }
   ],
   "source": [
    "stocks.iloc[0]"
   ]
  },
  {
   "cell_type": "code",
   "execution_count": 74,
   "metadata": {},
   "outputs": [
    {
     "data": {
      "text/plain": [
       "High         2.230000e+02\n",
       "Low          2.196800e+02\n",
       "Open         2.217000e+02\n",
       "Close        2.224200e+02\n",
       "Volume       2.094210e+07\n",
       "Adj Close    2.219089e+02\n",
       "Name: 2020-12-31 00:00:00, dtype: float64"
      ]
     },
     "execution_count": 74,
     "metadata": {},
     "output_type": "execute_result"
    }
   ],
   "source": [
    "stocks.iloc[-1]"
   ]
  },
  {
   "cell_type": "code",
   "execution_count": 75,
   "metadata": {},
   "outputs": [
    {
     "data": {
      "text/html": [
       "<div>\n",
       "<style scoped>\n",
       "    .dataframe tbody tr th:only-of-type {\n",
       "        vertical-align: middle;\n",
       "    }\n",
       "\n",
       "    .dataframe tbody tr th {\n",
       "        vertical-align: top;\n",
       "    }\n",
       "\n",
       "    .dataframe thead th {\n",
       "        text-align: right;\n",
       "    }\n",
       "</style>\n",
       "<table border=\"1\" class=\"dataframe\">\n",
       "  <thead>\n",
       "    <tr style=\"text-align: right;\">\n",
       "      <th></th>\n",
       "      <th>High</th>\n",
       "      <th>Low</th>\n",
       "      <th>Open</th>\n",
       "      <th>Close</th>\n",
       "      <th>Volume</th>\n",
       "      <th>Adj Close</th>\n",
       "    </tr>\n",
       "    <tr>\n",
       "      <th>Date</th>\n",
       "      <th></th>\n",
       "      <th></th>\n",
       "      <th></th>\n",
       "      <th></th>\n",
       "      <th></th>\n",
       "      <th></th>\n",
       "    </tr>\n",
       "  </thead>\n",
       "  <tbody>\n",
       "    <tr>\n",
       "      <th>2019-01-02</th>\n",
       "      <td>101.750000</td>\n",
       "      <td>98.940002</td>\n",
       "      <td>99.550003</td>\n",
       "      <td>101.120003</td>\n",
       "      <td>35329300.0</td>\n",
       "      <td>98.375481</td>\n",
       "    </tr>\n",
       "    <tr>\n",
       "      <th>2019-01-03</th>\n",
       "      <td>100.190002</td>\n",
       "      <td>97.199997</td>\n",
       "      <td>100.099998</td>\n",
       "      <td>97.400002</td>\n",
       "      <td>42579100.0</td>\n",
       "      <td>94.756454</td>\n",
       "    </tr>\n",
       "    <tr>\n",
       "      <th>2019-01-04</th>\n",
       "      <td>102.510002</td>\n",
       "      <td>98.930000</td>\n",
       "      <td>99.720001</td>\n",
       "      <td>101.930000</td>\n",
       "      <td>44060600.0</td>\n",
       "      <td>99.163513</td>\n",
       "    </tr>\n",
       "    <tr>\n",
       "      <th>2019-01-07</th>\n",
       "      <td>103.269997</td>\n",
       "      <td>100.980003</td>\n",
       "      <td>101.639999</td>\n",
       "      <td>102.059998</td>\n",
       "      <td>35656100.0</td>\n",
       "      <td>99.289970</td>\n",
       "    </tr>\n",
       "    <tr>\n",
       "      <th>2019-01-08</th>\n",
       "      <td>103.970001</td>\n",
       "      <td>101.709999</td>\n",
       "      <td>103.040001</td>\n",
       "      <td>102.800003</td>\n",
       "      <td>31514400.0</td>\n",
       "      <td>100.009888</td>\n",
       "    </tr>\n",
       "    <tr>\n",
       "      <th>2019-01-09</th>\n",
       "      <td>104.879997</td>\n",
       "      <td>103.239998</td>\n",
       "      <td>103.860001</td>\n",
       "      <td>104.269997</td>\n",
       "      <td>32280800.0</td>\n",
       "      <td>101.439995</td>\n",
       "    </tr>\n",
       "    <tr>\n",
       "      <th>2019-01-10</th>\n",
       "      <td>103.750000</td>\n",
       "      <td>102.379997</td>\n",
       "      <td>103.220001</td>\n",
       "      <td>103.599998</td>\n",
       "      <td>30067600.0</td>\n",
       "      <td>100.788193</td>\n",
       "    </tr>\n",
       "    <tr>\n",
       "      <th>2019-01-11</th>\n",
       "      <td>103.440002</td>\n",
       "      <td>101.639999</td>\n",
       "      <td>103.190002</td>\n",
       "      <td>102.800003</td>\n",
       "      <td>28314200.0</td>\n",
       "      <td>100.009888</td>\n",
       "    </tr>\n",
       "    <tr>\n",
       "      <th>2019-01-14</th>\n",
       "      <td>102.870003</td>\n",
       "      <td>101.260002</td>\n",
       "      <td>101.900002</td>\n",
       "      <td>102.050003</td>\n",
       "      <td>28437100.0</td>\n",
       "      <td>99.280251</td>\n",
       "    </tr>\n",
       "    <tr>\n",
       "      <th>2019-01-15</th>\n",
       "      <td>105.050003</td>\n",
       "      <td>101.879997</td>\n",
       "      <td>102.510002</td>\n",
       "      <td>105.010002</td>\n",
       "      <td>31587600.0</td>\n",
       "      <td>102.159920</td>\n",
       "    </tr>\n",
       "    <tr>\n",
       "      <th>2019-01-16</th>\n",
       "      <td>106.260002</td>\n",
       "      <td>104.959999</td>\n",
       "      <td>105.260002</td>\n",
       "      <td>105.379997</td>\n",
       "      <td>29853900.0</td>\n",
       "      <td>102.519859</td>\n",
       "    </tr>\n",
       "    <tr>\n",
       "      <th>2019-01-17</th>\n",
       "      <td>106.629997</td>\n",
       "      <td>104.760002</td>\n",
       "      <td>105.000000</td>\n",
       "      <td>106.120003</td>\n",
       "      <td>28393000.0</td>\n",
       "      <td>103.239784</td>\n",
       "    </tr>\n",
       "    <tr>\n",
       "      <th>2019-01-18</th>\n",
       "      <td>107.900002</td>\n",
       "      <td>105.910004</td>\n",
       "      <td>107.459999</td>\n",
       "      <td>107.709999</td>\n",
       "      <td>37427600.0</td>\n",
       "      <td>104.786636</td>\n",
       "    </tr>\n",
       "    <tr>\n",
       "      <th>2019-01-22</th>\n",
       "      <td>107.099998</td>\n",
       "      <td>104.860001</td>\n",
       "      <td>106.750000</td>\n",
       "      <td>105.680000</td>\n",
       "      <td>32371300.0</td>\n",
       "      <td>102.811722</td>\n",
       "    </tr>\n",
       "    <tr>\n",
       "      <th>2019-01-23</th>\n",
       "      <td>107.040001</td>\n",
       "      <td>105.339996</td>\n",
       "      <td>106.120003</td>\n",
       "      <td>106.709999</td>\n",
       "      <td>25874300.0</td>\n",
       "      <td>103.813774</td>\n",
       "    </tr>\n",
       "    <tr>\n",
       "      <th>2019-01-24</th>\n",
       "      <td>107.000000</td>\n",
       "      <td>105.339996</td>\n",
       "      <td>106.860001</td>\n",
       "      <td>106.199997</td>\n",
       "      <td>23164800.0</td>\n",
       "      <td>103.317596</td>\n",
       "    </tr>\n",
       "    <tr>\n",
       "      <th>2019-01-25</th>\n",
       "      <td>107.879997</td>\n",
       "      <td>106.199997</td>\n",
       "      <td>107.239998</td>\n",
       "      <td>107.169998</td>\n",
       "      <td>31225600.0</td>\n",
       "      <td>104.261292</td>\n",
       "    </tr>\n",
       "    <tr>\n",
       "      <th>2019-01-28</th>\n",
       "      <td>106.480003</td>\n",
       "      <td>104.660004</td>\n",
       "      <td>106.260002</td>\n",
       "      <td>105.080002</td>\n",
       "      <td>29476700.0</td>\n",
       "      <td>102.228020</td>\n",
       "    </tr>\n",
       "    <tr>\n",
       "      <th>2019-01-29</th>\n",
       "      <td>104.970001</td>\n",
       "      <td>102.169998</td>\n",
       "      <td>104.879997</td>\n",
       "      <td>102.940002</td>\n",
       "      <td>31490500.0</td>\n",
       "      <td>100.146103</td>\n",
       "    </tr>\n",
       "    <tr>\n",
       "      <th>2019-01-30</th>\n",
       "      <td>106.379997</td>\n",
       "      <td>104.330002</td>\n",
       "      <td>104.620003</td>\n",
       "      <td>106.379997</td>\n",
       "      <td>49471900.0</td>\n",
       "      <td>103.492729</td>\n",
       "    </tr>\n",
       "    <tr>\n",
       "      <th>2019-01-31</th>\n",
       "      <td>105.220001</td>\n",
       "      <td>103.180000</td>\n",
       "      <td>103.800003</td>\n",
       "      <td>104.430000</td>\n",
       "      <td>55636400.0</td>\n",
       "      <td>101.595657</td>\n",
       "    </tr>\n",
       "    <tr>\n",
       "      <th>2019-02-01</th>\n",
       "      <td>104.099998</td>\n",
       "      <td>102.349998</td>\n",
       "      <td>103.779999</td>\n",
       "      <td>102.779999</td>\n",
       "      <td>35535700.0</td>\n",
       "      <td>99.990440</td>\n",
       "    </tr>\n",
       "  </tbody>\n",
       "</table>\n",
       "</div>"
      ],
      "text/plain": [
       "                  High         Low        Open       Close      Volume  \\\n",
       "Date                                                                     \n",
       "2019-01-02  101.750000   98.940002   99.550003  101.120003  35329300.0   \n",
       "2019-01-03  100.190002   97.199997  100.099998   97.400002  42579100.0   \n",
       "2019-01-04  102.510002   98.930000   99.720001  101.930000  44060600.0   \n",
       "2019-01-07  103.269997  100.980003  101.639999  102.059998  35656100.0   \n",
       "2019-01-08  103.970001  101.709999  103.040001  102.800003  31514400.0   \n",
       "2019-01-09  104.879997  103.239998  103.860001  104.269997  32280800.0   \n",
       "2019-01-10  103.750000  102.379997  103.220001  103.599998  30067600.0   \n",
       "2019-01-11  103.440002  101.639999  103.190002  102.800003  28314200.0   \n",
       "2019-01-14  102.870003  101.260002  101.900002  102.050003  28437100.0   \n",
       "2019-01-15  105.050003  101.879997  102.510002  105.010002  31587600.0   \n",
       "2019-01-16  106.260002  104.959999  105.260002  105.379997  29853900.0   \n",
       "2019-01-17  106.629997  104.760002  105.000000  106.120003  28393000.0   \n",
       "2019-01-18  107.900002  105.910004  107.459999  107.709999  37427600.0   \n",
       "2019-01-22  107.099998  104.860001  106.750000  105.680000  32371300.0   \n",
       "2019-01-23  107.040001  105.339996  106.120003  106.709999  25874300.0   \n",
       "2019-01-24  107.000000  105.339996  106.860001  106.199997  23164800.0   \n",
       "2019-01-25  107.879997  106.199997  107.239998  107.169998  31225600.0   \n",
       "2019-01-28  106.480003  104.660004  106.260002  105.080002  29476700.0   \n",
       "2019-01-29  104.970001  102.169998  104.879997  102.940002  31490500.0   \n",
       "2019-01-30  106.379997  104.330002  104.620003  106.379997  49471900.0   \n",
       "2019-01-31  105.220001  103.180000  103.800003  104.430000  55636400.0   \n",
       "2019-02-01  104.099998  102.349998  103.779999  102.779999  35535700.0   \n",
       "\n",
       "             Adj Close  \n",
       "Date                    \n",
       "2019-01-02   98.375481  \n",
       "2019-01-03   94.756454  \n",
       "2019-01-04   99.163513  \n",
       "2019-01-07   99.289970  \n",
       "2019-01-08  100.009888  \n",
       "2019-01-09  101.439995  \n",
       "2019-01-10  100.788193  \n",
       "2019-01-11  100.009888  \n",
       "2019-01-14   99.280251  \n",
       "2019-01-15  102.159920  \n",
       "2019-01-16  102.519859  \n",
       "2019-01-17  103.239784  \n",
       "2019-01-18  104.786636  \n",
       "2019-01-22  102.811722  \n",
       "2019-01-23  103.813774  \n",
       "2019-01-24  103.317596  \n",
       "2019-01-25  104.261292  \n",
       "2019-01-28  102.228020  \n",
       "2019-01-29  100.146103  \n",
       "2019-01-30  103.492729  \n",
       "2019-01-31  101.595657  \n",
       "2019-02-01   99.990440  "
      ]
     },
     "execution_count": 75,
     "metadata": {},
     "output_type": "execute_result"
    }
   ],
   "source": [
    "stocks.loc['2019-01-02':'2019-02-03']"
   ]
  },
  {
   "cell_type": "markdown",
   "metadata": {},
   "source": [
    "### trucate() method"
   ]
  },
  {
   "cell_type": "code",
   "execution_count": 76,
   "metadata": {},
   "outputs": [
    {
     "data": {
      "text/html": [
       "<div>\n",
       "<style scoped>\n",
       "    .dataframe tbody tr th:only-of-type {\n",
       "        vertical-align: middle;\n",
       "    }\n",
       "\n",
       "    .dataframe tbody tr th {\n",
       "        vertical-align: top;\n",
       "    }\n",
       "\n",
       "    .dataframe thead th {\n",
       "        text-align: right;\n",
       "    }\n",
       "</style>\n",
       "<table border=\"1\" class=\"dataframe\">\n",
       "  <thead>\n",
       "    <tr style=\"text-align: right;\">\n",
       "      <th></th>\n",
       "      <th>High</th>\n",
       "      <th>Low</th>\n",
       "      <th>Open</th>\n",
       "      <th>Close</th>\n",
       "      <th>Volume</th>\n",
       "      <th>Adj Close</th>\n",
       "    </tr>\n",
       "    <tr>\n",
       "      <th>Date</th>\n",
       "      <th></th>\n",
       "      <th></th>\n",
       "      <th></th>\n",
       "      <th></th>\n",
       "      <th></th>\n",
       "      <th></th>\n",
       "    </tr>\n",
       "  </thead>\n",
       "  <tbody>\n",
       "    <tr>\n",
       "      <th>2019-01-02</th>\n",
       "      <td>101.750000</td>\n",
       "      <td>98.940002</td>\n",
       "      <td>99.550003</td>\n",
       "      <td>101.120003</td>\n",
       "      <td>35329300.0</td>\n",
       "      <td>98.375481</td>\n",
       "    </tr>\n",
       "    <tr>\n",
       "      <th>2019-01-03</th>\n",
       "      <td>100.190002</td>\n",
       "      <td>97.199997</td>\n",
       "      <td>100.099998</td>\n",
       "      <td>97.400002</td>\n",
       "      <td>42579100.0</td>\n",
       "      <td>94.756454</td>\n",
       "    </tr>\n",
       "    <tr>\n",
       "      <th>2019-01-04</th>\n",
       "      <td>102.510002</td>\n",
       "      <td>98.930000</td>\n",
       "      <td>99.720001</td>\n",
       "      <td>101.930000</td>\n",
       "      <td>44060600.0</td>\n",
       "      <td>99.163513</td>\n",
       "    </tr>\n",
       "    <tr>\n",
       "      <th>2019-01-07</th>\n",
       "      <td>103.269997</td>\n",
       "      <td>100.980003</td>\n",
       "      <td>101.639999</td>\n",
       "      <td>102.059998</td>\n",
       "      <td>35656100.0</td>\n",
       "      <td>99.289970</td>\n",
       "    </tr>\n",
       "    <tr>\n",
       "      <th>2019-01-08</th>\n",
       "      <td>103.970001</td>\n",
       "      <td>101.709999</td>\n",
       "      <td>103.040001</td>\n",
       "      <td>102.800003</td>\n",
       "      <td>31514400.0</td>\n",
       "      <td>100.009888</td>\n",
       "    </tr>\n",
       "    <tr>\n",
       "      <th>2019-01-09</th>\n",
       "      <td>104.879997</td>\n",
       "      <td>103.239998</td>\n",
       "      <td>103.860001</td>\n",
       "      <td>104.269997</td>\n",
       "      <td>32280800.0</td>\n",
       "      <td>101.439995</td>\n",
       "    </tr>\n",
       "    <tr>\n",
       "      <th>2019-01-10</th>\n",
       "      <td>103.750000</td>\n",
       "      <td>102.379997</td>\n",
       "      <td>103.220001</td>\n",
       "      <td>103.599998</td>\n",
       "      <td>30067600.0</td>\n",
       "      <td>100.788193</td>\n",
       "    </tr>\n",
       "    <tr>\n",
       "      <th>2019-01-11</th>\n",
       "      <td>103.440002</td>\n",
       "      <td>101.639999</td>\n",
       "      <td>103.190002</td>\n",
       "      <td>102.800003</td>\n",
       "      <td>28314200.0</td>\n",
       "      <td>100.009888</td>\n",
       "    </tr>\n",
       "    <tr>\n",
       "      <th>2019-01-14</th>\n",
       "      <td>102.870003</td>\n",
       "      <td>101.260002</td>\n",
       "      <td>101.900002</td>\n",
       "      <td>102.050003</td>\n",
       "      <td>28437100.0</td>\n",
       "      <td>99.280251</td>\n",
       "    </tr>\n",
       "    <tr>\n",
       "      <th>2019-01-15</th>\n",
       "      <td>105.050003</td>\n",
       "      <td>101.879997</td>\n",
       "      <td>102.510002</td>\n",
       "      <td>105.010002</td>\n",
       "      <td>31587600.0</td>\n",
       "      <td>102.159920</td>\n",
       "    </tr>\n",
       "    <tr>\n",
       "      <th>2019-01-16</th>\n",
       "      <td>106.260002</td>\n",
       "      <td>104.959999</td>\n",
       "      <td>105.260002</td>\n",
       "      <td>105.379997</td>\n",
       "      <td>29853900.0</td>\n",
       "      <td>102.519859</td>\n",
       "    </tr>\n",
       "    <tr>\n",
       "      <th>2019-01-17</th>\n",
       "      <td>106.629997</td>\n",
       "      <td>104.760002</td>\n",
       "      <td>105.000000</td>\n",
       "      <td>106.120003</td>\n",
       "      <td>28393000.0</td>\n",
       "      <td>103.239784</td>\n",
       "    </tr>\n",
       "    <tr>\n",
       "      <th>2019-01-18</th>\n",
       "      <td>107.900002</td>\n",
       "      <td>105.910004</td>\n",
       "      <td>107.459999</td>\n",
       "      <td>107.709999</td>\n",
       "      <td>37427600.0</td>\n",
       "      <td>104.786636</td>\n",
       "    </tr>\n",
       "  </tbody>\n",
       "</table>\n",
       "</div>"
      ],
      "text/plain": [
       "                  High         Low        Open       Close      Volume  \\\n",
       "Date                                                                     \n",
       "2019-01-02  101.750000   98.940002   99.550003  101.120003  35329300.0   \n",
       "2019-01-03  100.190002   97.199997  100.099998   97.400002  42579100.0   \n",
       "2019-01-04  102.510002   98.930000   99.720001  101.930000  44060600.0   \n",
       "2019-01-07  103.269997  100.980003  101.639999  102.059998  35656100.0   \n",
       "2019-01-08  103.970001  101.709999  103.040001  102.800003  31514400.0   \n",
       "2019-01-09  104.879997  103.239998  103.860001  104.269997  32280800.0   \n",
       "2019-01-10  103.750000  102.379997  103.220001  103.599998  30067600.0   \n",
       "2019-01-11  103.440002  101.639999  103.190002  102.800003  28314200.0   \n",
       "2019-01-14  102.870003  101.260002  101.900002  102.050003  28437100.0   \n",
       "2019-01-15  105.050003  101.879997  102.510002  105.010002  31587600.0   \n",
       "2019-01-16  106.260002  104.959999  105.260002  105.379997  29853900.0   \n",
       "2019-01-17  106.629997  104.760002  105.000000  106.120003  28393000.0   \n",
       "2019-01-18  107.900002  105.910004  107.459999  107.709999  37427600.0   \n",
       "\n",
       "             Adj Close  \n",
       "Date                    \n",
       "2019-01-02   98.375481  \n",
       "2019-01-03   94.756454  \n",
       "2019-01-04   99.163513  \n",
       "2019-01-07   99.289970  \n",
       "2019-01-08  100.009888  \n",
       "2019-01-09  101.439995  \n",
       "2019-01-10  100.788193  \n",
       "2019-01-11  100.009888  \n",
       "2019-01-14   99.280251  \n",
       "2019-01-15  102.159920  \n",
       "2019-01-16  102.519859  \n",
       "2019-01-17  103.239784  \n",
       "2019-01-18  104.786636  "
      ]
     },
     "execution_count": 76,
     "metadata": {},
     "output_type": "execute_result"
    }
   ],
   "source": [
    "# Truncate works similar to .loc\n",
    "stocks.truncate(before = '2019-01-02', after='2019-01-20')"
   ]
  },
  {
   "cell_type": "markdown",
   "metadata": {},
   "source": [
    "### Excercise to show data for specific dates only"
   ]
  },
  {
   "cell_type": "code",
   "execution_count": 77,
   "metadata": {},
   "outputs": [
    {
     "data": {
      "text/plain": [
       "DatetimeIndex(['2000-01-29', '2001-01-29', '2002-01-29', '2003-01-29',\n",
       "               '2004-01-29', '2005-01-29', '2006-01-29', '2007-01-29',\n",
       "               '2008-01-29', '2009-01-29', '2010-01-29', '2011-01-29',\n",
       "               '2012-01-29', '2013-01-29', '2014-01-29', '2015-01-29',\n",
       "               '2016-01-29', '2017-01-29', '2018-01-29', '2019-01-29',\n",
       "               '2020-01-29'],\n",
       "              dtype='datetime64[ns]', freq='<DateOffset: years=1>')"
      ]
     },
     "execution_count": 77,
     "metadata": {},
     "output_type": "execute_result"
    }
   ],
   "source": [
    "specific_date = pd.date_range(start='29-01-2000', end='2020-12-31', freq=pd.DateOffset(years=1))\n",
    "\n",
    "specific_date"
   ]
  },
  {
   "cell_type": "code",
   "execution_count": 78,
   "metadata": {},
   "outputs": [
    {
     "data": {
      "text/plain": [
       "array([False, False, False, ..., False, False, False])"
      ]
     },
     "execution_count": 78,
     "metadata": {},
     "output_type": "execute_result"
    }
   ],
   "source": [
    "stocks.index.isin(specific_date)"
   ]
  },
  {
   "cell_type": "code",
   "execution_count": 79,
   "metadata": {},
   "outputs": [
    {
     "data": {
      "text/html": [
       "<div>\n",
       "<style scoped>\n",
       "    .dataframe tbody tr th:only-of-type {\n",
       "        vertical-align: middle;\n",
       "    }\n",
       "\n",
       "    .dataframe tbody tr th {\n",
       "        vertical-align: top;\n",
       "    }\n",
       "\n",
       "    .dataframe thead th {\n",
       "        text-align: right;\n",
       "    }\n",
       "</style>\n",
       "<table border=\"1\" class=\"dataframe\">\n",
       "  <thead>\n",
       "    <tr style=\"text-align: right;\">\n",
       "      <th></th>\n",
       "      <th>High</th>\n",
       "      <th>Low</th>\n",
       "      <th>Open</th>\n",
       "      <th>Close</th>\n",
       "      <th>Volume</th>\n",
       "      <th>Adj Close</th>\n",
       "    </tr>\n",
       "    <tr>\n",
       "      <th>Date</th>\n",
       "      <th></th>\n",
       "      <th></th>\n",
       "      <th></th>\n",
       "      <th></th>\n",
       "      <th></th>\n",
       "      <th></th>\n",
       "    </tr>\n",
       "  </thead>\n",
       "  <tbody>\n",
       "    <tr>\n",
       "      <th>2001-01-29</th>\n",
       "      <td>32.312500</td>\n",
       "      <td>31.750000</td>\n",
       "      <td>31.781250</td>\n",
       "      <td>32.250000</td>\n",
       "      <td>84983800.0</td>\n",
       "      <td>20.483610</td>\n",
       "    </tr>\n",
       "    <tr>\n",
       "      <th>2002-01-29</th>\n",
       "      <td>32.250000</td>\n",
       "      <td>30.995001</td>\n",
       "      <td>31.950001</td>\n",
       "      <td>31.160000</td>\n",
       "      <td>58666000.0</td>\n",
       "      <td>19.791296</td>\n",
       "    </tr>\n",
       "    <tr>\n",
       "      <th>2003-01-29</th>\n",
       "      <td>25.020000</td>\n",
       "      <td>23.965000</td>\n",
       "      <td>24.365000</td>\n",
       "      <td>24.955000</td>\n",
       "      <td>106884000.0</td>\n",
       "      <td>15.850185</td>\n",
       "    </tr>\n",
       "    <tr>\n",
       "      <th>2004-01-29</th>\n",
       "      <td>27.950001</td>\n",
       "      <td>27.570000</td>\n",
       "      <td>27.809999</td>\n",
       "      <td>27.910000</td>\n",
       "      <td>63748400.0</td>\n",
       "      <td>17.883827</td>\n",
       "    </tr>\n",
       "    <tr>\n",
       "      <th>2007-01-29</th>\n",
       "      <td>30.780001</td>\n",
       "      <td>30.340000</td>\n",
       "      <td>30.650000</td>\n",
       "      <td>30.530001</td>\n",
       "      <td>57605900.0</td>\n",
       "      <td>22.454912</td>\n",
       "    </tr>\n",
       "    <tr>\n",
       "      <th>2008-01-29</th>\n",
       "      <td>32.889999</td>\n",
       "      <td>32.349998</td>\n",
       "      <td>32.849998</td>\n",
       "      <td>32.599998</td>\n",
       "      <td>68023000.0</td>\n",
       "      <td>24.303171</td>\n",
       "    </tr>\n",
       "    <tr>\n",
       "      <th>2009-01-29</th>\n",
       "      <td>17.959999</td>\n",
       "      <td>17.559999</td>\n",
       "      <td>17.780001</td>\n",
       "      <td>17.590000</td>\n",
       "      <td>49192800.0</td>\n",
       "      <td>13.355255</td>\n",
       "    </tr>\n",
       "    <tr>\n",
       "      <th>2010-01-29</th>\n",
       "      <td>29.920000</td>\n",
       "      <td>27.660000</td>\n",
       "      <td>29.900000</td>\n",
       "      <td>28.180000</td>\n",
       "      <td>193888500.0</td>\n",
       "      <td>21.897520</td>\n",
       "    </tr>\n",
       "    <tr>\n",
       "      <th>2013-01-29</th>\n",
       "      <td>28.129999</td>\n",
       "      <td>27.600000</td>\n",
       "      <td>27.820000</td>\n",
       "      <td>28.010000</td>\n",
       "      <td>49242600.0</td>\n",
       "      <td>23.454081</td>\n",
       "    </tr>\n",
       "    <tr>\n",
       "      <th>2014-01-29</th>\n",
       "      <td>36.880001</td>\n",
       "      <td>35.900002</td>\n",
       "      <td>35.980000</td>\n",
       "      <td>36.660000</td>\n",
       "      <td>52745900.0</td>\n",
       "      <td>31.625994</td>\n",
       "    </tr>\n",
       "    <tr>\n",
       "      <th>2015-01-29</th>\n",
       "      <td>42.119999</td>\n",
       "      <td>40.790001</td>\n",
       "      <td>40.930000</td>\n",
       "      <td>42.009998</td>\n",
       "      <td>63585300.0</td>\n",
       "      <td>37.233730</td>\n",
       "    </tr>\n",
       "    <tr>\n",
       "      <th>2016-01-29</th>\n",
       "      <td>55.090000</td>\n",
       "      <td>54.000000</td>\n",
       "      <td>54.730000</td>\n",
       "      <td>55.090000</td>\n",
       "      <td>83611700.0</td>\n",
       "      <td>50.155861</td>\n",
       "    </tr>\n",
       "    <tr>\n",
       "      <th>2018-01-29</th>\n",
       "      <td>95.449997</td>\n",
       "      <td>93.720001</td>\n",
       "      <td>95.139999</td>\n",
       "      <td>93.919998</td>\n",
       "      <td>31569900.0</td>\n",
       "      <td>89.816078</td>\n",
       "    </tr>\n",
       "    <tr>\n",
       "      <th>2019-01-29</th>\n",
       "      <td>104.970001</td>\n",
       "      <td>102.169998</td>\n",
       "      <td>104.879997</td>\n",
       "      <td>102.940002</td>\n",
       "      <td>31490500.0</td>\n",
       "      <td>100.146103</td>\n",
       "    </tr>\n",
       "    <tr>\n",
       "      <th>2020-01-29</th>\n",
       "      <td>168.750000</td>\n",
       "      <td>165.690002</td>\n",
       "      <td>167.839996</td>\n",
       "      <td>168.039993</td>\n",
       "      <td>34754500.0</td>\n",
       "      <td>165.896423</td>\n",
       "    </tr>\n",
       "  </tbody>\n",
       "</table>\n",
       "</div>"
      ],
      "text/plain": [
       "                  High         Low        Open       Close       Volume  \\\n",
       "Date                                                                      \n",
       "2001-01-29   32.312500   31.750000   31.781250   32.250000   84983800.0   \n",
       "2002-01-29   32.250000   30.995001   31.950001   31.160000   58666000.0   \n",
       "2003-01-29   25.020000   23.965000   24.365000   24.955000  106884000.0   \n",
       "2004-01-29   27.950001   27.570000   27.809999   27.910000   63748400.0   \n",
       "2007-01-29   30.780001   30.340000   30.650000   30.530001   57605900.0   \n",
       "2008-01-29   32.889999   32.349998   32.849998   32.599998   68023000.0   \n",
       "2009-01-29   17.959999   17.559999   17.780001   17.590000   49192800.0   \n",
       "2010-01-29   29.920000   27.660000   29.900000   28.180000  193888500.0   \n",
       "2013-01-29   28.129999   27.600000   27.820000   28.010000   49242600.0   \n",
       "2014-01-29   36.880001   35.900002   35.980000   36.660000   52745900.0   \n",
       "2015-01-29   42.119999   40.790001   40.930000   42.009998   63585300.0   \n",
       "2016-01-29   55.090000   54.000000   54.730000   55.090000   83611700.0   \n",
       "2018-01-29   95.449997   93.720001   95.139999   93.919998   31569900.0   \n",
       "2019-01-29  104.970001  102.169998  104.879997  102.940002   31490500.0   \n",
       "2020-01-29  168.750000  165.690002  167.839996  168.039993   34754500.0   \n",
       "\n",
       "             Adj Close  \n",
       "Date                    \n",
       "2001-01-29   20.483610  \n",
       "2002-01-29   19.791296  \n",
       "2003-01-29   15.850185  \n",
       "2004-01-29   17.883827  \n",
       "2007-01-29   22.454912  \n",
       "2008-01-29   24.303171  \n",
       "2009-01-29   13.355255  \n",
       "2010-01-29   21.897520  \n",
       "2013-01-29   23.454081  \n",
       "2014-01-29   31.625994  \n",
       "2015-01-29   37.233730  \n",
       "2016-01-29   50.155861  \n",
       "2018-01-29   89.816078  \n",
       "2019-01-29  100.146103  \n",
       "2020-01-29  165.896423  "
      ]
     },
     "execution_count": 79,
     "metadata": {},
     "output_type": "execute_result"
    }
   ],
   "source": [
    "stocks[stocks.index.isin(specific_date)]"
   ]
  },
  {
   "cell_type": "markdown",
   "metadata": {},
   "source": [
    "### Timestamp Object Attributes and Methods"
   ]
  },
  {
   "cell_type": "code",
   "execution_count": 80,
   "metadata": {},
   "outputs": [
    {
     "data": {
      "text/plain": [
       "Timestamp('2000-05-24 00:00:00')"
      ]
     },
     "execution_count": 80,
     "metadata": {},
     "output_type": "execute_result"
    }
   ],
   "source": [
    "day = stocks.index[100]\n",
    "\n",
    "day"
   ]
  },
  {
   "cell_type": "code",
   "execution_count": 81,
   "metadata": {},
   "outputs": [
    {
     "data": {
      "text/plain": [
       "5"
      ]
     },
     "execution_count": 81,
     "metadata": {},
     "output_type": "execute_result"
    }
   ],
   "source": [
    "day.month"
   ]
  },
  {
   "cell_type": "code",
   "execution_count": 82,
   "metadata": {},
   "outputs": [
    {
     "data": {
      "text/plain": [
       "21"
      ]
     },
     "execution_count": 82,
     "metadata": {},
     "output_type": "execute_result"
    }
   ],
   "source": [
    "day.week"
   ]
  },
  {
   "cell_type": "code",
   "execution_count": 83,
   "metadata": {},
   "outputs": [
    {
     "data": {
      "text/plain": [
       "False"
      ]
     },
     "execution_count": 83,
     "metadata": {},
     "output_type": "execute_result"
    }
   ],
   "source": [
    "day.is_month_start"
   ]
  },
  {
   "cell_type": "code",
   "execution_count": 84,
   "metadata": {},
   "outputs": [
    {
     "data": {
      "text/plain": [
       "False"
      ]
     },
     "execution_count": 84,
     "metadata": {},
     "output_type": "execute_result"
    }
   ],
   "source": [
    "day.is_quarter_end"
   ]
  },
  {
   "cell_type": "code",
   "execution_count": 85,
   "metadata": {},
   "outputs": [
    {
     "data": {
      "text/plain": [
       "'May'"
      ]
     },
     "execution_count": 85,
     "metadata": {},
     "output_type": "execute_result"
    }
   ],
   "source": [
    "day.month_name()"
   ]
  },
  {
   "cell_type": "code",
   "execution_count": 86,
   "metadata": {},
   "outputs": [
    {
     "data": {
      "text/plain": [
       "'Wednesday'"
      ]
     },
     "execution_count": 86,
     "metadata": {},
     "output_type": "execute_result"
    }
   ],
   "source": [
    "day.day_name()"
   ]
  },
  {
   "cell_type": "code",
   "execution_count": 87,
   "metadata": {},
   "outputs": [
    {
     "data": {
      "text/plain": [
       "Index(['Friday', 'Monday', 'Tuesday', 'Wednesday', 'Thursday', 'Friday',\n",
       "       'Monday', 'Tuesday', 'Wednesday', 'Thursday',\n",
       "       ...\n",
       "       'Thursday', 'Friday', 'Monday', 'Tuesday', 'Wednesday', 'Thursday',\n",
       "       'Monday', 'Tuesday', 'Wednesday', 'Thursday'],\n",
       "      dtype='object', name='Date', length=5285)"
      ]
     },
     "execution_count": 87,
     "metadata": {},
     "output_type": "execute_result"
    }
   ],
   "source": [
    "stocks.index.day_name()"
   ]
  },
  {
   "cell_type": "code",
   "execution_count": 88,
   "metadata": {},
   "outputs": [
    {
     "data": {
      "text/html": [
       "<div>\n",
       "<style scoped>\n",
       "    .dataframe tbody tr th:only-of-type {\n",
       "        vertical-align: middle;\n",
       "    }\n",
       "\n",
       "    .dataframe tbody tr th {\n",
       "        vertical-align: top;\n",
       "    }\n",
       "\n",
       "    .dataframe thead th {\n",
       "        text-align: right;\n",
       "    }\n",
       "</style>\n",
       "<table border=\"1\" class=\"dataframe\">\n",
       "  <thead>\n",
       "    <tr style=\"text-align: right;\">\n",
       "      <th></th>\n",
       "      <th>Day of Week</th>\n",
       "      <th>High</th>\n",
       "      <th>Low</th>\n",
       "      <th>Open</th>\n",
       "      <th>Close</th>\n",
       "      <th>Volume</th>\n",
       "      <th>Adj Close</th>\n",
       "    </tr>\n",
       "    <tr>\n",
       "      <th>Date</th>\n",
       "      <th></th>\n",
       "      <th></th>\n",
       "      <th></th>\n",
       "      <th></th>\n",
       "      <th></th>\n",
       "      <th></th>\n",
       "      <th></th>\n",
       "    </tr>\n",
       "  </thead>\n",
       "  <tbody>\n",
       "    <tr>\n",
       "      <th>1999-12-31</th>\n",
       "      <td>Friday</td>\n",
       "      <td>58.875000</td>\n",
       "      <td>58.125000</td>\n",
       "      <td>58.750000</td>\n",
       "      <td>58.375000</td>\n",
       "      <td>12517600.0</td>\n",
       "      <td>37.076923</td>\n",
       "    </tr>\n",
       "    <tr>\n",
       "      <th>2000-01-03</th>\n",
       "      <td>Monday</td>\n",
       "      <td>59.312500</td>\n",
       "      <td>56.000000</td>\n",
       "      <td>58.687500</td>\n",
       "      <td>58.281250</td>\n",
       "      <td>53228400.0</td>\n",
       "      <td>37.017384</td>\n",
       "    </tr>\n",
       "    <tr>\n",
       "      <th>2000-01-04</th>\n",
       "      <td>Tuesday</td>\n",
       "      <td>58.562500</td>\n",
       "      <td>56.125000</td>\n",
       "      <td>56.781250</td>\n",
       "      <td>56.312500</td>\n",
       "      <td>54119000.0</td>\n",
       "      <td>35.766914</td>\n",
       "    </tr>\n",
       "    <tr>\n",
       "      <th>2000-01-05</th>\n",
       "      <td>Wednesday</td>\n",
       "      <td>58.187500</td>\n",
       "      <td>54.687500</td>\n",
       "      <td>55.562500</td>\n",
       "      <td>56.906250</td>\n",
       "      <td>64059600.0</td>\n",
       "      <td>36.144032</td>\n",
       "    </tr>\n",
       "    <tr>\n",
       "      <th>2000-01-06</th>\n",
       "      <td>Thursday</td>\n",
       "      <td>56.937500</td>\n",
       "      <td>54.187500</td>\n",
       "      <td>56.093750</td>\n",
       "      <td>55.000000</td>\n",
       "      <td>54976600.0</td>\n",
       "      <td>34.933285</td>\n",
       "    </tr>\n",
       "    <tr>\n",
       "      <th>...</th>\n",
       "      <td>...</td>\n",
       "      <td>...</td>\n",
       "      <td>...</td>\n",
       "      <td>...</td>\n",
       "      <td>...</td>\n",
       "      <td>...</td>\n",
       "      <td>...</td>\n",
       "    </tr>\n",
       "    <tr>\n",
       "      <th>2020-12-24</th>\n",
       "      <td>Thursday</td>\n",
       "      <td>223.610001</td>\n",
       "      <td>221.199997</td>\n",
       "      <td>221.419998</td>\n",
       "      <td>222.750000</td>\n",
       "      <td>10550600.0</td>\n",
       "      <td>222.238144</td>\n",
       "    </tr>\n",
       "    <tr>\n",
       "      <th>2020-12-28</th>\n",
       "      <td>Monday</td>\n",
       "      <td>226.029999</td>\n",
       "      <td>223.020004</td>\n",
       "      <td>224.449997</td>\n",
       "      <td>224.960007</td>\n",
       "      <td>17933500.0</td>\n",
       "      <td>224.443069</td>\n",
       "    </tr>\n",
       "    <tr>\n",
       "      <th>2020-12-29</th>\n",
       "      <td>Tuesday</td>\n",
       "      <td>227.179993</td>\n",
       "      <td>223.580002</td>\n",
       "      <td>226.309998</td>\n",
       "      <td>224.149994</td>\n",
       "      <td>17403200.0</td>\n",
       "      <td>223.634918</td>\n",
       "    </tr>\n",
       "    <tr>\n",
       "      <th>2020-12-30</th>\n",
       "      <td>Wednesday</td>\n",
       "      <td>225.630005</td>\n",
       "      <td>221.470001</td>\n",
       "      <td>225.229996</td>\n",
       "      <td>221.679993</td>\n",
       "      <td>20272300.0</td>\n",
       "      <td>221.170593</td>\n",
       "    </tr>\n",
       "    <tr>\n",
       "      <th>2020-12-31</th>\n",
       "      <td>Thursday</td>\n",
       "      <td>223.000000</td>\n",
       "      <td>219.679993</td>\n",
       "      <td>221.699997</td>\n",
       "      <td>222.419998</td>\n",
       "      <td>20942100.0</td>\n",
       "      <td>221.908905</td>\n",
       "    </tr>\n",
       "  </tbody>\n",
       "</table>\n",
       "<p>5285 rows × 7 columns</p>\n",
       "</div>"
      ],
      "text/plain": [
       "           Day of Week        High         Low        Open       Close  \\\n",
       "Date                                                                     \n",
       "1999-12-31      Friday   58.875000   58.125000   58.750000   58.375000   \n",
       "2000-01-03      Monday   59.312500   56.000000   58.687500   58.281250   \n",
       "2000-01-04     Tuesday   58.562500   56.125000   56.781250   56.312500   \n",
       "2000-01-05   Wednesday   58.187500   54.687500   55.562500   56.906250   \n",
       "2000-01-06    Thursday   56.937500   54.187500   56.093750   55.000000   \n",
       "...                ...         ...         ...         ...         ...   \n",
       "2020-12-24    Thursday  223.610001  221.199997  221.419998  222.750000   \n",
       "2020-12-28      Monday  226.029999  223.020004  224.449997  224.960007   \n",
       "2020-12-29     Tuesday  227.179993  223.580002  226.309998  224.149994   \n",
       "2020-12-30   Wednesday  225.630005  221.470001  225.229996  221.679993   \n",
       "2020-12-31    Thursday  223.000000  219.679993  221.699997  222.419998   \n",
       "\n",
       "                Volume   Adj Close  \n",
       "Date                                \n",
       "1999-12-31  12517600.0   37.076923  \n",
       "2000-01-03  53228400.0   37.017384  \n",
       "2000-01-04  54119000.0   35.766914  \n",
       "2000-01-05  64059600.0   36.144032  \n",
       "2000-01-06  54976600.0   34.933285  \n",
       "...                ...         ...  \n",
       "2020-12-24  10550600.0  222.238144  \n",
       "2020-12-28  17933500.0  224.443069  \n",
       "2020-12-29  17403200.0  223.634918  \n",
       "2020-12-30  20272300.0  221.170593  \n",
       "2020-12-31  20942100.0  221.908905  \n",
       "\n",
       "[5285 rows x 7 columns]"
      ]
     },
     "execution_count": 88,
     "metadata": {},
     "output_type": "execute_result"
    }
   ],
   "source": [
    "stocks.insert(0, column='Day of Week', value=stocks.index.day_name())\n",
    "\n",
    "stocks"
   ]
  },
  {
   "cell_type": "code",
   "execution_count": 89,
   "metadata": {},
   "outputs": [
    {
     "data": {
      "text/html": [
       "<div>\n",
       "<style scoped>\n",
       "    .dataframe tbody tr th:only-of-type {\n",
       "        vertical-align: middle;\n",
       "    }\n",
       "\n",
       "    .dataframe tbody tr th {\n",
       "        vertical-align: top;\n",
       "    }\n",
       "\n",
       "    .dataframe thead th {\n",
       "        text-align: right;\n",
       "    }\n",
       "</style>\n",
       "<table border=\"1\" class=\"dataframe\">\n",
       "  <thead>\n",
       "    <tr style=\"text-align: right;\">\n",
       "      <th></th>\n",
       "      <th>Day of Week</th>\n",
       "      <th>Is Month Start</th>\n",
       "      <th>High</th>\n",
       "      <th>Low</th>\n",
       "      <th>Open</th>\n",
       "      <th>Close</th>\n",
       "      <th>Volume</th>\n",
       "      <th>Adj Close</th>\n",
       "    </tr>\n",
       "    <tr>\n",
       "      <th>Date</th>\n",
       "      <th></th>\n",
       "      <th></th>\n",
       "      <th></th>\n",
       "      <th></th>\n",
       "      <th></th>\n",
       "      <th></th>\n",
       "      <th></th>\n",
       "      <th></th>\n",
       "    </tr>\n",
       "  </thead>\n",
       "  <tbody>\n",
       "    <tr>\n",
       "      <th>1999-12-31</th>\n",
       "      <td>Friday</td>\n",
       "      <td>False</td>\n",
       "      <td>58.875000</td>\n",
       "      <td>58.125000</td>\n",
       "      <td>58.750000</td>\n",
       "      <td>58.375000</td>\n",
       "      <td>12517600.0</td>\n",
       "      <td>37.076923</td>\n",
       "    </tr>\n",
       "    <tr>\n",
       "      <th>2000-01-03</th>\n",
       "      <td>Monday</td>\n",
       "      <td>False</td>\n",
       "      <td>59.312500</td>\n",
       "      <td>56.000000</td>\n",
       "      <td>58.687500</td>\n",
       "      <td>58.281250</td>\n",
       "      <td>53228400.0</td>\n",
       "      <td>37.017384</td>\n",
       "    </tr>\n",
       "    <tr>\n",
       "      <th>2000-01-04</th>\n",
       "      <td>Tuesday</td>\n",
       "      <td>False</td>\n",
       "      <td>58.562500</td>\n",
       "      <td>56.125000</td>\n",
       "      <td>56.781250</td>\n",
       "      <td>56.312500</td>\n",
       "      <td>54119000.0</td>\n",
       "      <td>35.766914</td>\n",
       "    </tr>\n",
       "    <tr>\n",
       "      <th>2000-01-05</th>\n",
       "      <td>Wednesday</td>\n",
       "      <td>False</td>\n",
       "      <td>58.187500</td>\n",
       "      <td>54.687500</td>\n",
       "      <td>55.562500</td>\n",
       "      <td>56.906250</td>\n",
       "      <td>64059600.0</td>\n",
       "      <td>36.144032</td>\n",
       "    </tr>\n",
       "    <tr>\n",
       "      <th>2000-01-06</th>\n",
       "      <td>Thursday</td>\n",
       "      <td>False</td>\n",
       "      <td>56.937500</td>\n",
       "      <td>54.187500</td>\n",
       "      <td>56.093750</td>\n",
       "      <td>55.000000</td>\n",
       "      <td>54976600.0</td>\n",
       "      <td>34.933285</td>\n",
       "    </tr>\n",
       "    <tr>\n",
       "      <th>...</th>\n",
       "      <td>...</td>\n",
       "      <td>...</td>\n",
       "      <td>...</td>\n",
       "      <td>...</td>\n",
       "      <td>...</td>\n",
       "      <td>...</td>\n",
       "      <td>...</td>\n",
       "      <td>...</td>\n",
       "    </tr>\n",
       "    <tr>\n",
       "      <th>2020-12-24</th>\n",
       "      <td>Thursday</td>\n",
       "      <td>False</td>\n",
       "      <td>223.610001</td>\n",
       "      <td>221.199997</td>\n",
       "      <td>221.419998</td>\n",
       "      <td>222.750000</td>\n",
       "      <td>10550600.0</td>\n",
       "      <td>222.238144</td>\n",
       "    </tr>\n",
       "    <tr>\n",
       "      <th>2020-12-28</th>\n",
       "      <td>Monday</td>\n",
       "      <td>False</td>\n",
       "      <td>226.029999</td>\n",
       "      <td>223.020004</td>\n",
       "      <td>224.449997</td>\n",
       "      <td>224.960007</td>\n",
       "      <td>17933500.0</td>\n",
       "      <td>224.443069</td>\n",
       "    </tr>\n",
       "    <tr>\n",
       "      <th>2020-12-29</th>\n",
       "      <td>Tuesday</td>\n",
       "      <td>False</td>\n",
       "      <td>227.179993</td>\n",
       "      <td>223.580002</td>\n",
       "      <td>226.309998</td>\n",
       "      <td>224.149994</td>\n",
       "      <td>17403200.0</td>\n",
       "      <td>223.634918</td>\n",
       "    </tr>\n",
       "    <tr>\n",
       "      <th>2020-12-30</th>\n",
       "      <td>Wednesday</td>\n",
       "      <td>False</td>\n",
       "      <td>225.630005</td>\n",
       "      <td>221.470001</td>\n",
       "      <td>225.229996</td>\n",
       "      <td>221.679993</td>\n",
       "      <td>20272300.0</td>\n",
       "      <td>221.170593</td>\n",
       "    </tr>\n",
       "    <tr>\n",
       "      <th>2020-12-31</th>\n",
       "      <td>Thursday</td>\n",
       "      <td>False</td>\n",
       "      <td>223.000000</td>\n",
       "      <td>219.679993</td>\n",
       "      <td>221.699997</td>\n",
       "      <td>222.419998</td>\n",
       "      <td>20942100.0</td>\n",
       "      <td>221.908905</td>\n",
       "    </tr>\n",
       "  </tbody>\n",
       "</table>\n",
       "<p>5285 rows × 8 columns</p>\n",
       "</div>"
      ],
      "text/plain": [
       "           Day of Week  Is Month Start        High         Low        Open  \\\n",
       "Date                                                                         \n",
       "1999-12-31      Friday           False   58.875000   58.125000   58.750000   \n",
       "2000-01-03      Monday           False   59.312500   56.000000   58.687500   \n",
       "2000-01-04     Tuesday           False   58.562500   56.125000   56.781250   \n",
       "2000-01-05   Wednesday           False   58.187500   54.687500   55.562500   \n",
       "2000-01-06    Thursday           False   56.937500   54.187500   56.093750   \n",
       "...                ...             ...         ...         ...         ...   \n",
       "2020-12-24    Thursday           False  223.610001  221.199997  221.419998   \n",
       "2020-12-28      Monday           False  226.029999  223.020004  224.449997   \n",
       "2020-12-29     Tuesday           False  227.179993  223.580002  226.309998   \n",
       "2020-12-30   Wednesday           False  225.630005  221.470001  225.229996   \n",
       "2020-12-31    Thursday           False  223.000000  219.679993  221.699997   \n",
       "\n",
       "                 Close      Volume   Adj Close  \n",
       "Date                                            \n",
       "1999-12-31   58.375000  12517600.0   37.076923  \n",
       "2000-01-03   58.281250  53228400.0   37.017384  \n",
       "2000-01-04   56.312500  54119000.0   35.766914  \n",
       "2000-01-05   56.906250  64059600.0   36.144032  \n",
       "2000-01-06   55.000000  54976600.0   34.933285  \n",
       "...                ...         ...         ...  \n",
       "2020-12-24  222.750000  10550600.0  222.238144  \n",
       "2020-12-28  224.960007  17933500.0  224.443069  \n",
       "2020-12-29  224.149994  17403200.0  223.634918  \n",
       "2020-12-30  221.679993  20272300.0  221.170593  \n",
       "2020-12-31  222.419998  20942100.0  221.908905  \n",
       "\n",
       "[5285 rows x 8 columns]"
      ]
     },
     "execution_count": 89,
     "metadata": {},
     "output_type": "execute_result"
    }
   ],
   "source": [
    "stocks.insert(1, column='Is Month Start', value=stocks.index.is_month_start)\n",
    "\n",
    "stocks"
   ]
  },
  {
   "cell_type": "markdown",
   "metadata": {},
   "source": [
    "### pd.DateOffset() Object to add or substract dates"
   ]
  },
  {
   "cell_type": "code",
   "execution_count": 90,
   "metadata": {},
   "outputs": [
    {
     "data": {
      "text/plain": [
       "DatetimeIndex(['2000-01-05', '2000-01-08', '2000-01-09', '2000-01-10',\n",
       "               '2000-01-11', '2000-01-12', '2000-01-15', '2000-01-16',\n",
       "               '2000-01-17', '2000-01-18',\n",
       "               ...\n",
       "               '2020-12-22', '2020-12-23', '2020-12-26', '2020-12-27',\n",
       "               '2020-12-28', '2020-12-29', '2021-01-02', '2021-01-03',\n",
       "               '2021-01-04', '2021-01-05'],\n",
       "              dtype='datetime64[ns]', name='Date', length=5285, freq=None)"
      ]
     },
     "execution_count": 90,
     "metadata": {},
     "output_type": "execute_result"
    }
   ],
   "source": [
    "stocks.index + pd.DateOffset(days=5)"
   ]
  },
  {
   "cell_type": "code",
   "execution_count": 91,
   "metadata": {},
   "outputs": [
    {
     "data": {
      "text/plain": [
       "DatetimeIndex(['1999-12-26', '1999-12-29', '1999-12-30', '1999-12-31',\n",
       "               '2000-01-01', '2000-01-02', '2000-01-05', '2000-01-06',\n",
       "               '2000-01-07', '2000-01-08',\n",
       "               ...\n",
       "               '2020-12-12', '2020-12-13', '2020-12-16', '2020-12-17',\n",
       "               '2020-12-18', '2020-12-19', '2020-12-23', '2020-12-24',\n",
       "               '2020-12-25', '2020-12-26'],\n",
       "              dtype='datetime64[ns]', name='Date', length=5285, freq=None)"
      ]
     },
     "execution_count": 91,
     "metadata": {},
     "output_type": "execute_result"
    }
   ],
   "source": [
    "stocks.index - pd.DateOffset(days=5)"
   ]
  },
  {
   "cell_type": "code",
   "execution_count": 92,
   "metadata": {},
   "outputs": [
    {
     "data": {
      "text/plain": [
       "DatetimeIndex(['2000-05-31', '2000-06-03', '2000-06-04', '2000-06-05',\n",
       "               '2000-06-06', '2000-06-07', '2000-06-10', '2000-06-11',\n",
       "               '2000-06-12', '2000-06-13',\n",
       "               ...\n",
       "               '2021-05-17', '2021-05-18', '2021-05-21', '2021-05-22',\n",
       "               '2021-05-23', '2021-05-24', '2021-05-28', '2021-05-29',\n",
       "               '2021-05-30', '2021-05-31'],\n",
       "              dtype='datetime64[ns]', name='Date', length=5285, freq=None)"
      ]
     },
     "execution_count": 92,
     "metadata": {},
     "output_type": "execute_result"
    }
   ],
   "source": [
    "stocks.index + pd.DateOffset(months=5)"
   ]
  },
  {
   "cell_type": "code",
   "execution_count": 93,
   "metadata": {},
   "outputs": [
    {
     "data": {
      "text/plain": [
       "DatetimeIndex(['1999-12-10', '1999-12-13', '1999-12-14', '1999-12-15',\n",
       "               '1999-12-16', '1999-12-17', '1999-12-20', '1999-12-21',\n",
       "               '1999-12-22', '1999-12-23',\n",
       "               ...\n",
       "               '2020-11-26', '2020-11-27', '2020-11-30', '2020-12-01',\n",
       "               '2020-12-02', '2020-12-03', '2020-12-07', '2020-12-08',\n",
       "               '2020-12-09', '2020-12-10'],\n",
       "              dtype='datetime64[ns]', name='Date', length=5285, freq=None)"
      ]
     },
     "execution_count": 93,
     "metadata": {},
     "output_type": "execute_result"
    }
   ],
   "source": [
    "stocks.index - pd.DateOffset(weeks=3)"
   ]
  },
  {
   "cell_type": "code",
   "execution_count": 94,
   "metadata": {},
   "outputs": [
    {
     "data": {
      "text/plain": [
       "DatetimeIndex(['2001-12-31', '2002-01-03', '2002-01-04', '2002-01-05',\n",
       "               '2002-01-06', '2002-01-07', '2002-01-10', '2002-01-11',\n",
       "               '2002-01-12', '2002-01-13',\n",
       "               ...\n",
       "               '2022-12-17', '2022-12-18', '2022-12-21', '2022-12-22',\n",
       "               '2022-12-23', '2022-12-24', '2022-12-28', '2022-12-29',\n",
       "               '2022-12-30', '2022-12-31'],\n",
       "              dtype='datetime64[ns]', name='Date', length=5285, freq=None)"
      ]
     },
     "execution_count": 94,
     "metadata": {},
     "output_type": "execute_result"
    }
   ],
   "source": [
    "stocks.index + pd.DateOffset(years=2)"
   ]
  },
  {
   "cell_type": "code",
   "execution_count": 95,
   "metadata": {},
   "outputs": [
    {
     "name": "stderr",
     "output_type": "stream",
     "text": [
      "/Users/avnishsinghhh/opt/anaconda3/lib/python3.7/site-packages/pandas/core/arrays/datetimes.py:694: PerformanceWarning: Non-vectorized DateOffset being applied to Series or DatetimeIndex\n",
      "  PerformanceWarning,\n"
     ]
    },
    {
     "data": {
      "text/plain": [
       "DatetimeIndex(['2000-03-26 06:02:20', '2001-03-01 06:02:20',\n",
       "               '2001-03-02 06:02:20', '2001-03-03 06:02:20',\n",
       "               '2001-03-04 06:02:20', '2001-03-05 06:02:20',\n",
       "               '2001-03-08 06:02:20', '2001-03-09 06:02:20',\n",
       "               '2001-03-10 06:02:20', '2001-03-11 06:02:20',\n",
       "               ...\n",
       "               '2021-03-15 06:02:20', '2021-03-16 06:02:20',\n",
       "               '2021-03-19 06:02:20', '2021-03-20 06:02:20',\n",
       "               '2021-03-21 06:02:20', '2021-03-22 06:02:20',\n",
       "               '2021-03-26 06:02:20', '2021-03-26 06:02:20',\n",
       "               '2021-03-26 06:02:20', '2021-03-26 06:02:20'],\n",
       "              dtype='datetime64[ns]', name='Date', length=5285, freq=None)"
      ]
     },
     "execution_count": 95,
     "metadata": {},
     "output_type": "execute_result"
    }
   ],
   "source": [
    "stocks.index + pd.DateOffset(years=1, month=2, weeks=3, days=5, hour=6, minutes=2, seconds=20)"
   ]
  },
  {
   "cell_type": "markdown",
   "metadata": {},
   "source": [
    "### Timeseries Offsets"
   ]
  },
  {
   "cell_type": "code",
   "execution_count": 96,
   "metadata": {},
   "outputs": [
    {
     "data": {
      "text/plain": [
       "DatetimeIndex(['2000-01-31', '2000-01-31', '2000-01-31', '2000-01-31',\n",
       "               '2000-01-31', '2000-01-31', '2000-01-31', '2000-01-31',\n",
       "               '2000-01-31', '2000-01-31',\n",
       "               ...\n",
       "               '2020-12-31', '2020-12-31', '2020-12-31', '2020-12-31',\n",
       "               '2020-12-31', '2020-12-31', '2020-12-31', '2020-12-31',\n",
       "               '2020-12-31', '2021-01-31'],\n",
       "              dtype='datetime64[ns]', name='Date', length=5285, freq=None)"
      ]
     },
     "execution_count": 96,
     "metadata": {},
     "output_type": "execute_result"
    }
   ],
   "source": [
    "#If date is already end/beginning of month then pandas will move it to next or previous month end/beginning as requested\n",
    "\n",
    "stocks.index + pd.tseries.offsets.MonthEnd()"
   ]
  },
  {
   "cell_type": "code",
   "execution_count": 97,
   "metadata": {},
   "outputs": [
    {
     "data": {
      "text/plain": [
       "DatetimeIndex(['1999-11-30', '1999-12-31', '1999-12-31', '1999-12-31',\n",
       "               '1999-12-31', '1999-12-31', '1999-12-31', '1999-12-31',\n",
       "               '1999-12-31', '1999-12-31',\n",
       "               ...\n",
       "               '2020-11-30', '2020-11-30', '2020-11-30', '2020-11-30',\n",
       "               '2020-11-30', '2020-11-30', '2020-11-30', '2020-11-30',\n",
       "               '2020-11-30', '2020-11-30'],\n",
       "              dtype='datetime64[ns]', name='Date', length=5285, freq=None)"
      ]
     },
     "execution_count": 97,
     "metadata": {},
     "output_type": "execute_result"
    }
   ],
   "source": [
    "stocks.index - pd.tseries.offsets.MonthEnd()"
   ]
  },
  {
   "cell_type": "code",
   "execution_count": 98,
   "metadata": {},
   "outputs": [
    {
     "data": {
      "text/plain": [
       "DatetimeIndex(['2000-01-01', '2000-02-01', '2000-02-01', '2000-02-01',\n",
       "               '2000-02-01', '2000-02-01', '2000-02-01', '2000-02-01',\n",
       "               '2000-02-01', '2000-02-01',\n",
       "               ...\n",
       "               '2021-01-01', '2021-01-01', '2021-01-01', '2021-01-01',\n",
       "               '2021-01-01', '2021-01-01', '2021-01-01', '2021-01-01',\n",
       "               '2021-01-01', '2021-01-01'],\n",
       "              dtype='datetime64[ns]', name='Date', length=5285, freq=None)"
      ]
     },
     "execution_count": 98,
     "metadata": {},
     "output_type": "execute_result"
    }
   ],
   "source": [
    "stocks.index + pd.tseries.offsets.MonthBegin()"
   ]
  },
  {
   "cell_type": "code",
   "execution_count": 99,
   "metadata": {},
   "outputs": [
    {
     "data": {
      "text/plain": [
       "DatetimeIndex(['1999-11-30', '1999-12-31', '1999-12-31', '1999-12-31',\n",
       "               '1999-12-31', '1999-12-31', '1999-12-31', '1999-12-31',\n",
       "               '1999-12-31', '1999-12-31',\n",
       "               ...\n",
       "               '2020-11-30', '2020-11-30', '2020-11-30', '2020-11-30',\n",
       "               '2020-11-30', '2020-11-30', '2020-11-30', '2020-11-30',\n",
       "               '2020-11-30', '2020-11-30'],\n",
       "              dtype='datetime64[ns]', name='Date', length=5285, freq=None)"
      ]
     },
     "execution_count": 99,
     "metadata": {},
     "output_type": "execute_result"
    }
   ],
   "source": [
    "stocks.index - pd.tseries.offsets.MonthEnd()"
   ]
  },
  {
   "cell_type": "code",
   "execution_count": 100,
   "metadata": {},
   "outputs": [],
   "source": [
    "from pandas.tseries import offsets"
   ]
  },
  {
   "cell_type": "code",
   "execution_count": 101,
   "metadata": {},
   "outputs": [
    {
     "data": {
      "text/plain": [
       "DatetimeIndex(['2000-01-31', '2000-01-31', '2000-01-31', '2000-01-31',\n",
       "               '2000-01-31', '2000-01-31', '2000-01-31', '2000-01-31',\n",
       "               '2000-01-31', '2000-01-31',\n",
       "               ...\n",
       "               '2020-12-31', '2020-12-31', '2020-12-31', '2020-12-31',\n",
       "               '2020-12-31', '2020-12-31', '2020-12-31', '2020-12-31',\n",
       "               '2020-12-31', '2021-01-31'],\n",
       "              dtype='datetime64[ns]', name='Date', length=5285, freq=None)"
      ]
     },
     "execution_count": 101,
     "metadata": {},
     "output_type": "execute_result"
    }
   ],
   "source": [
    "stocks.index + offsets.MonthEnd()"
   ]
  },
  {
   "cell_type": "code",
   "execution_count": 102,
   "metadata": {},
   "outputs": [
    {
     "data": {
      "text/plain": [
       "DatetimeIndex(['2000-01-31', '2000-01-31', '2000-01-31', '2000-01-31',\n",
       "               '2000-01-31', '2000-01-31', '2000-01-31', '2000-01-31',\n",
       "               '2000-01-31', '2000-01-31',\n",
       "               ...\n",
       "               '2020-12-31', '2020-12-31', '2020-12-31', '2020-12-31',\n",
       "               '2020-12-31', '2020-12-31', '2020-12-31', '2020-12-31',\n",
       "               '2020-12-31', '2021-01-29'],\n",
       "              dtype='datetime64[ns]', name='Date', length=5285, freq=None)"
      ]
     },
     "execution_count": 102,
     "metadata": {},
     "output_type": "execute_result"
    }
   ],
   "source": [
    "#Business Month End\n",
    "stocks.index + offsets.BMonthEnd()"
   ]
  },
  {
   "cell_type": "code",
   "execution_count": 103,
   "metadata": {},
   "outputs": [
    {
     "data": {
      "text/plain": [
       "DatetimeIndex(['2000-12-29', '2000-12-29', '2000-12-29', '2000-12-29',\n",
       "               '2000-12-29', '2000-12-29', '2000-12-29', '2000-12-29',\n",
       "               '2000-12-29', '2000-12-29',\n",
       "               ...\n",
       "               '2020-12-31', '2020-12-31', '2020-12-31', '2020-12-31',\n",
       "               '2020-12-31', '2020-12-31', '2020-12-31', '2020-12-31',\n",
       "               '2020-12-31', '2021-12-31'],\n",
       "              dtype='datetime64[ns]', name='Date', length=5285, freq=None)"
      ]
     },
     "execution_count": 103,
     "metadata": {},
     "output_type": "execute_result"
    }
   ],
   "source": [
    "stocks.index + offsets.BYearEnd()"
   ]
  },
  {
   "cell_type": "markdown",
   "metadata": {},
   "source": [
    "### The TimeDelta Object"
   ]
  },
  {
   "cell_type": "code",
   "execution_count": 104,
   "metadata": {},
   "outputs": [
    {
     "data": {
      "text/plain": [
       "Timedelta('60 days 00:00:00')"
      ]
     },
     "execution_count": 104,
     "metadata": {},
     "output_type": "execute_result"
    }
   ],
   "source": [
    "#Measurement of time between two times\n",
    "\n",
    "pd.Timestamp('2020-03-01') - pd.Timestamp('2020-01-01')"
   ]
  },
  {
   "cell_type": "code",
   "execution_count": 105,
   "metadata": {},
   "outputs": [
    {
     "data": {
      "text/plain": [
       "Timedelta('-60 days +00:00:00')"
      ]
     },
     "execution_count": 105,
     "metadata": {},
     "output_type": "execute_result"
    }
   ],
   "source": [
    "pd.Timestamp('2020-01-01') - pd.Timestamp('2020-03-01')"
   ]
  },
  {
   "cell_type": "code",
   "execution_count": 106,
   "metadata": {},
   "outputs": [
    {
     "data": {
      "text/plain": [
       "Timedelta('60 days 02:59:19')"
      ]
     },
     "execution_count": 106,
     "metadata": {},
     "output_type": "execute_result"
    }
   ],
   "source": [
    "pd.Timestamp('2020-03-01 04:20:18') - pd.Timestamp('2020-01-01 01:20:59')"
   ]
  },
  {
   "cell_type": "code",
   "execution_count": 107,
   "metadata": {},
   "outputs": [
    {
     "data": {
      "text/plain": [
       "Timedelta('3 days 00:00:00')"
      ]
     },
     "execution_count": 107,
     "metadata": {},
     "output_type": "execute_result"
    }
   ],
   "source": [
    "pd.Timedelta(days = 3)"
   ]
  },
  {
   "cell_type": "code",
   "execution_count": 108,
   "metadata": {},
   "outputs": [
    {
     "data": {
      "text/plain": [
       "Timestamp('2020-03-04 00:00:00')"
      ]
     },
     "execution_count": 108,
     "metadata": {},
     "output_type": "execute_result"
    }
   ],
   "source": [
    "pd.Timestamp('2020-03-01') + pd.Timedelta(days = 3)"
   ]
  },
  {
   "cell_type": "code",
   "execution_count": 109,
   "metadata": {},
   "outputs": [
    {
     "data": {
      "text/plain": [
       "Timestamp('2020-04-29 05:50:20')"
      ]
     },
     "execution_count": 109,
     "metadata": {},
     "output_type": "execute_result"
    }
   ],
   "source": [
    "#\"years\" parameter doesn't work in Timedelta()\n",
    "\n",
    "pd.Timestamp('2020-03-01') + pd.Timedelta(weeks=8, days = 3, hours = 5, minutes=50, seconds=20)"
   ]
  },
  {
   "cell_type": "code",
   "execution_count": 110,
   "metadata": {},
   "outputs": [
    {
     "data": {
      "text/plain": [
       "Timedelta('0 days 05:00:00')"
      ]
     },
     "execution_count": 110,
     "metadata": {},
     "output_type": "execute_result"
    }
   ],
   "source": [
    "pd.Timedelta('5 Hours')"
   ]
  },
  {
   "cell_type": "code",
   "execution_count": 111,
   "metadata": {},
   "outputs": [
    {
     "data": {
      "text/plain": [
       "Timedelta('0 days 02:05:00')"
      ]
     },
     "execution_count": 111,
     "metadata": {},
     "output_type": "execute_result"
    }
   ],
   "source": [
    "pd.Timedelta('2 Hours 5 Minutes')"
   ]
  },
  {
   "cell_type": "code",
   "execution_count": 112,
   "metadata": {},
   "outputs": [
    {
     "data": {
      "text/plain": [
       "Timedelta('10 days 05:20:10')"
      ]
     },
     "execution_count": 112,
     "metadata": {},
     "output_type": "execute_result"
    }
   ],
   "source": [
    "pd.Timedelta('10 Days 5 hours 20 Minutes 10 seconds')"
   ]
  },
  {
   "cell_type": "markdown",
   "metadata": {},
   "source": [
    "### Using date as filter"
   ]
  },
  {
   "cell_type": "code",
   "execution_count": 113,
   "metadata": {},
   "outputs": [
    {
     "data": {
      "text/html": [
       "<div>\n",
       "<style scoped>\n",
       "    .dataframe tbody tr th:only-of-type {\n",
       "        vertical-align: middle;\n",
       "    }\n",
       "\n",
       "    .dataframe tbody tr th {\n",
       "        vertical-align: top;\n",
       "    }\n",
       "\n",
       "    .dataframe thead th {\n",
       "        text-align: right;\n",
       "    }\n",
       "</style>\n",
       "<table border=\"1\" class=\"dataframe\">\n",
       "  <thead>\n",
       "    <tr style=\"text-align: right;\">\n",
       "      <th></th>\n",
       "      <th>Date</th>\n",
       "      <th>High</th>\n",
       "      <th>Low</th>\n",
       "      <th>Open</th>\n",
       "      <th>Close</th>\n",
       "      <th>Volume</th>\n",
       "      <th>Adj Close</th>\n",
       "    </tr>\n",
       "  </thead>\n",
       "  <tbody>\n",
       "    <tr>\n",
       "      <th>0</th>\n",
       "      <td>1999-12-31</td>\n",
       "      <td>58.875000</td>\n",
       "      <td>58.125000</td>\n",
       "      <td>58.750000</td>\n",
       "      <td>58.375000</td>\n",
       "      <td>12517600.0</td>\n",
       "      <td>37.076923</td>\n",
       "    </tr>\n",
       "    <tr>\n",
       "      <th>1</th>\n",
       "      <td>2000-01-03</td>\n",
       "      <td>59.312500</td>\n",
       "      <td>56.000000</td>\n",
       "      <td>58.687500</td>\n",
       "      <td>58.281250</td>\n",
       "      <td>53228400.0</td>\n",
       "      <td>37.017384</td>\n",
       "    </tr>\n",
       "    <tr>\n",
       "      <th>2</th>\n",
       "      <td>2000-01-04</td>\n",
       "      <td>58.562500</td>\n",
       "      <td>56.125000</td>\n",
       "      <td>56.781250</td>\n",
       "      <td>56.312500</td>\n",
       "      <td>54119000.0</td>\n",
       "      <td>35.766914</td>\n",
       "    </tr>\n",
       "    <tr>\n",
       "      <th>3</th>\n",
       "      <td>2000-01-05</td>\n",
       "      <td>58.187500</td>\n",
       "      <td>54.687500</td>\n",
       "      <td>55.562500</td>\n",
       "      <td>56.906250</td>\n",
       "      <td>64059600.0</td>\n",
       "      <td>36.144032</td>\n",
       "    </tr>\n",
       "    <tr>\n",
       "      <th>4</th>\n",
       "      <td>2000-01-06</td>\n",
       "      <td>56.937500</td>\n",
       "      <td>54.187500</td>\n",
       "      <td>56.093750</td>\n",
       "      <td>55.000000</td>\n",
       "      <td>54976600.0</td>\n",
       "      <td>34.933285</td>\n",
       "    </tr>\n",
       "    <tr>\n",
       "      <th>...</th>\n",
       "      <td>...</td>\n",
       "      <td>...</td>\n",
       "      <td>...</td>\n",
       "      <td>...</td>\n",
       "      <td>...</td>\n",
       "      <td>...</td>\n",
       "      <td>...</td>\n",
       "    </tr>\n",
       "    <tr>\n",
       "      <th>5280</th>\n",
       "      <td>2020-12-24</td>\n",
       "      <td>223.610001</td>\n",
       "      <td>221.199997</td>\n",
       "      <td>221.419998</td>\n",
       "      <td>222.750000</td>\n",
       "      <td>10550600.0</td>\n",
       "      <td>222.238144</td>\n",
       "    </tr>\n",
       "    <tr>\n",
       "      <th>5281</th>\n",
       "      <td>2020-12-28</td>\n",
       "      <td>226.029999</td>\n",
       "      <td>223.020004</td>\n",
       "      <td>224.449997</td>\n",
       "      <td>224.960007</td>\n",
       "      <td>17933500.0</td>\n",
       "      <td>224.443069</td>\n",
       "    </tr>\n",
       "    <tr>\n",
       "      <th>5282</th>\n",
       "      <td>2020-12-29</td>\n",
       "      <td>227.179993</td>\n",
       "      <td>223.580002</td>\n",
       "      <td>226.309998</td>\n",
       "      <td>224.149994</td>\n",
       "      <td>17403200.0</td>\n",
       "      <td>223.634918</td>\n",
       "    </tr>\n",
       "    <tr>\n",
       "      <th>5283</th>\n",
       "      <td>2020-12-30</td>\n",
       "      <td>225.630005</td>\n",
       "      <td>221.470001</td>\n",
       "      <td>225.229996</td>\n",
       "      <td>221.679993</td>\n",
       "      <td>20272300.0</td>\n",
       "      <td>221.170593</td>\n",
       "    </tr>\n",
       "    <tr>\n",
       "      <th>5284</th>\n",
       "      <td>2020-12-31</td>\n",
       "      <td>223.000000</td>\n",
       "      <td>219.679993</td>\n",
       "      <td>221.699997</td>\n",
       "      <td>222.419998</td>\n",
       "      <td>20942100.0</td>\n",
       "      <td>221.908905</td>\n",
       "    </tr>\n",
       "  </tbody>\n",
       "</table>\n",
       "<p>5285 rows × 7 columns</p>\n",
       "</div>"
      ],
      "text/plain": [
       "           Date        High         Low        Open       Close      Volume  \\\n",
       "0    1999-12-31   58.875000   58.125000   58.750000   58.375000  12517600.0   \n",
       "1    2000-01-03   59.312500   56.000000   58.687500   58.281250  53228400.0   \n",
       "2    2000-01-04   58.562500   56.125000   56.781250   56.312500  54119000.0   \n",
       "3    2000-01-05   58.187500   54.687500   55.562500   56.906250  64059600.0   \n",
       "4    2000-01-06   56.937500   54.187500   56.093750   55.000000  54976600.0   \n",
       "...         ...         ...         ...         ...         ...         ...   \n",
       "5280 2020-12-24  223.610001  221.199997  221.419998  222.750000  10550600.0   \n",
       "5281 2020-12-28  226.029999  223.020004  224.449997  224.960007  17933500.0   \n",
       "5282 2020-12-29  227.179993  223.580002  226.309998  224.149994  17403200.0   \n",
       "5283 2020-12-30  225.630005  221.470001  225.229996  221.679993  20272300.0   \n",
       "5284 2020-12-31  223.000000  219.679993  221.699997  222.419998  20942100.0   \n",
       "\n",
       "       Adj Close  \n",
       "0      37.076923  \n",
       "1      37.017384  \n",
       "2      35.766914  \n",
       "3      36.144032  \n",
       "4      34.933285  \n",
       "...          ...  \n",
       "5280  222.238144  \n",
       "5281  224.443069  \n",
       "5282  223.634918  \n",
       "5283  221.170593  \n",
       "5284  221.908905  \n",
       "\n",
       "[5285 rows x 7 columns]"
      ]
     },
     "execution_count": 113,
     "metadata": {},
     "output_type": "execute_result"
    }
   ],
   "source": [
    "stocks = data.DataReader(name = 'MSFT', data_source='yahoo', start='2000-01-01', end='2020-12-31')\n",
    "\n",
    "stocks = stocks.reset_index()\n",
    "\n",
    "stocks"
   ]
  },
  {
   "cell_type": "code",
   "execution_count": 114,
   "metadata": {},
   "outputs": [
    {
     "data": {
      "text/html": [
       "<div>\n",
       "<style scoped>\n",
       "    .dataframe tbody tr th:only-of-type {\n",
       "        vertical-align: middle;\n",
       "    }\n",
       "\n",
       "    .dataframe tbody tr th {\n",
       "        vertical-align: top;\n",
       "    }\n",
       "\n",
       "    .dataframe thead th {\n",
       "        text-align: right;\n",
       "    }\n",
       "</style>\n",
       "<table border=\"1\" class=\"dataframe\">\n",
       "  <thead>\n",
       "    <tr style=\"text-align: right;\">\n",
       "      <th></th>\n",
       "      <th>Date</th>\n",
       "      <th>New_Date</th>\n",
       "      <th>High</th>\n",
       "      <th>Low</th>\n",
       "      <th>Open</th>\n",
       "      <th>Close</th>\n",
       "      <th>Volume</th>\n",
       "      <th>Adj Close</th>\n",
       "    </tr>\n",
       "  </thead>\n",
       "  <tbody>\n",
       "    <tr>\n",
       "      <th>0</th>\n",
       "      <td>1999-12-31</td>\n",
       "      <td>2000-01-30</td>\n",
       "      <td>58.875000</td>\n",
       "      <td>58.125000</td>\n",
       "      <td>58.750000</td>\n",
       "      <td>58.375000</td>\n",
       "      <td>12517600.0</td>\n",
       "      <td>37.076923</td>\n",
       "    </tr>\n",
       "    <tr>\n",
       "      <th>1</th>\n",
       "      <td>2000-01-03</td>\n",
       "      <td>2000-02-02</td>\n",
       "      <td>59.312500</td>\n",
       "      <td>56.000000</td>\n",
       "      <td>58.687500</td>\n",
       "      <td>58.281250</td>\n",
       "      <td>53228400.0</td>\n",
       "      <td>37.017384</td>\n",
       "    </tr>\n",
       "    <tr>\n",
       "      <th>2</th>\n",
       "      <td>2000-01-04</td>\n",
       "      <td>2000-02-03</td>\n",
       "      <td>58.562500</td>\n",
       "      <td>56.125000</td>\n",
       "      <td>56.781250</td>\n",
       "      <td>56.312500</td>\n",
       "      <td>54119000.0</td>\n",
       "      <td>35.766914</td>\n",
       "    </tr>\n",
       "    <tr>\n",
       "      <th>3</th>\n",
       "      <td>2000-01-05</td>\n",
       "      <td>2000-02-04</td>\n",
       "      <td>58.187500</td>\n",
       "      <td>54.687500</td>\n",
       "      <td>55.562500</td>\n",
       "      <td>56.906250</td>\n",
       "      <td>64059600.0</td>\n",
       "      <td>36.144032</td>\n",
       "    </tr>\n",
       "    <tr>\n",
       "      <th>4</th>\n",
       "      <td>2000-01-06</td>\n",
       "      <td>2000-02-05</td>\n",
       "      <td>56.937500</td>\n",
       "      <td>54.187500</td>\n",
       "      <td>56.093750</td>\n",
       "      <td>55.000000</td>\n",
       "      <td>54976600.0</td>\n",
       "      <td>34.933285</td>\n",
       "    </tr>\n",
       "    <tr>\n",
       "      <th>...</th>\n",
       "      <td>...</td>\n",
       "      <td>...</td>\n",
       "      <td>...</td>\n",
       "      <td>...</td>\n",
       "      <td>...</td>\n",
       "      <td>...</td>\n",
       "      <td>...</td>\n",
       "      <td>...</td>\n",
       "    </tr>\n",
       "    <tr>\n",
       "      <th>5280</th>\n",
       "      <td>2020-12-24</td>\n",
       "      <td>2021-01-23</td>\n",
       "      <td>223.610001</td>\n",
       "      <td>221.199997</td>\n",
       "      <td>221.419998</td>\n",
       "      <td>222.750000</td>\n",
       "      <td>10550600.0</td>\n",
       "      <td>222.238144</td>\n",
       "    </tr>\n",
       "    <tr>\n",
       "      <th>5281</th>\n",
       "      <td>2020-12-28</td>\n",
       "      <td>2021-01-27</td>\n",
       "      <td>226.029999</td>\n",
       "      <td>223.020004</td>\n",
       "      <td>224.449997</td>\n",
       "      <td>224.960007</td>\n",
       "      <td>17933500.0</td>\n",
       "      <td>224.443069</td>\n",
       "    </tr>\n",
       "    <tr>\n",
       "      <th>5282</th>\n",
       "      <td>2020-12-29</td>\n",
       "      <td>2021-01-28</td>\n",
       "      <td>227.179993</td>\n",
       "      <td>223.580002</td>\n",
       "      <td>226.309998</td>\n",
       "      <td>224.149994</td>\n",
       "      <td>17403200.0</td>\n",
       "      <td>223.634918</td>\n",
       "    </tr>\n",
       "    <tr>\n",
       "      <th>5283</th>\n",
       "      <td>2020-12-30</td>\n",
       "      <td>2021-01-29</td>\n",
       "      <td>225.630005</td>\n",
       "      <td>221.470001</td>\n",
       "      <td>225.229996</td>\n",
       "      <td>221.679993</td>\n",
       "      <td>20272300.0</td>\n",
       "      <td>221.170593</td>\n",
       "    </tr>\n",
       "    <tr>\n",
       "      <th>5284</th>\n",
       "      <td>2020-12-31</td>\n",
       "      <td>2021-01-30</td>\n",
       "      <td>223.000000</td>\n",
       "      <td>219.679993</td>\n",
       "      <td>221.699997</td>\n",
       "      <td>222.419998</td>\n",
       "      <td>20942100.0</td>\n",
       "      <td>221.908905</td>\n",
       "    </tr>\n",
       "  </tbody>\n",
       "</table>\n",
       "<p>5285 rows × 8 columns</p>\n",
       "</div>"
      ],
      "text/plain": [
       "           Date   New_Date        High         Low        Open       Close  \\\n",
       "0    1999-12-31 2000-01-30   58.875000   58.125000   58.750000   58.375000   \n",
       "1    2000-01-03 2000-02-02   59.312500   56.000000   58.687500   58.281250   \n",
       "2    2000-01-04 2000-02-03   58.562500   56.125000   56.781250   56.312500   \n",
       "3    2000-01-05 2000-02-04   58.187500   54.687500   55.562500   56.906250   \n",
       "4    2000-01-06 2000-02-05   56.937500   54.187500   56.093750   55.000000   \n",
       "...         ...        ...         ...         ...         ...         ...   \n",
       "5280 2020-12-24 2021-01-23  223.610001  221.199997  221.419998  222.750000   \n",
       "5281 2020-12-28 2021-01-27  226.029999  223.020004  224.449997  224.960007   \n",
       "5282 2020-12-29 2021-01-28  227.179993  223.580002  226.309998  224.149994   \n",
       "5283 2020-12-30 2021-01-29  225.630005  221.470001  225.229996  221.679993   \n",
       "5284 2020-12-31 2021-01-30  223.000000  219.679993  221.699997  222.419998   \n",
       "\n",
       "          Volume   Adj Close  \n",
       "0     12517600.0   37.076923  \n",
       "1     53228400.0   37.017384  \n",
       "2     54119000.0   35.766914  \n",
       "3     64059600.0   36.144032  \n",
       "4     54976600.0   34.933285  \n",
       "...          ...         ...  \n",
       "5280  10550600.0  222.238144  \n",
       "5281  17933500.0  224.443069  \n",
       "5282  17403200.0  223.634918  \n",
       "5283  20272300.0  221.170593  \n",
       "5284  20942100.0  221.908905  \n",
       "\n",
       "[5285 rows x 8 columns]"
      ]
     },
     "execution_count": 114,
     "metadata": {},
     "output_type": "execute_result"
    }
   ],
   "source": [
    "stocks.insert(1, column='New_Date', value = pd.to_datetime(stocks['Date'])  + pd.Timedelta(days = 30))\n",
    "\n",
    "stocks"
   ]
  },
  {
   "cell_type": "code",
   "execution_count": 115,
   "metadata": {},
   "outputs": [
    {
     "data": {
      "text/html": [
       "<div>\n",
       "<style scoped>\n",
       "    .dataframe tbody tr th:only-of-type {\n",
       "        vertical-align: middle;\n",
       "    }\n",
       "\n",
       "    .dataframe tbody tr th {\n",
       "        vertical-align: top;\n",
       "    }\n",
       "\n",
       "    .dataframe thead th {\n",
       "        text-align: right;\n",
       "    }\n",
       "</style>\n",
       "<table border=\"1\" class=\"dataframe\">\n",
       "  <thead>\n",
       "    <tr style=\"text-align: right;\">\n",
       "      <th></th>\n",
       "      <th>Date</th>\n",
       "      <th>New_Date</th>\n",
       "      <th>Date_Diff</th>\n",
       "      <th>High</th>\n",
       "      <th>Low</th>\n",
       "      <th>Open</th>\n",
       "      <th>Close</th>\n",
       "      <th>Volume</th>\n",
       "      <th>Adj Close</th>\n",
       "    </tr>\n",
       "  </thead>\n",
       "  <tbody>\n",
       "    <tr>\n",
       "      <th>0</th>\n",
       "      <td>1999-12-31</td>\n",
       "      <td>2000-01-30</td>\n",
       "      <td>30 days</td>\n",
       "      <td>58.875000</td>\n",
       "      <td>58.125000</td>\n",
       "      <td>58.750000</td>\n",
       "      <td>58.375000</td>\n",
       "      <td>12517600.0</td>\n",
       "      <td>37.076923</td>\n",
       "    </tr>\n",
       "    <tr>\n",
       "      <th>1</th>\n",
       "      <td>2000-01-03</td>\n",
       "      <td>2000-02-02</td>\n",
       "      <td>30 days</td>\n",
       "      <td>59.312500</td>\n",
       "      <td>56.000000</td>\n",
       "      <td>58.687500</td>\n",
       "      <td>58.281250</td>\n",
       "      <td>53228400.0</td>\n",
       "      <td>37.017384</td>\n",
       "    </tr>\n",
       "    <tr>\n",
       "      <th>2</th>\n",
       "      <td>2000-01-04</td>\n",
       "      <td>2000-02-03</td>\n",
       "      <td>30 days</td>\n",
       "      <td>58.562500</td>\n",
       "      <td>56.125000</td>\n",
       "      <td>56.781250</td>\n",
       "      <td>56.312500</td>\n",
       "      <td>54119000.0</td>\n",
       "      <td>35.766914</td>\n",
       "    </tr>\n",
       "    <tr>\n",
       "      <th>3</th>\n",
       "      <td>2000-01-05</td>\n",
       "      <td>2000-02-04</td>\n",
       "      <td>30 days</td>\n",
       "      <td>58.187500</td>\n",
       "      <td>54.687500</td>\n",
       "      <td>55.562500</td>\n",
       "      <td>56.906250</td>\n",
       "      <td>64059600.0</td>\n",
       "      <td>36.144032</td>\n",
       "    </tr>\n",
       "    <tr>\n",
       "      <th>4</th>\n",
       "      <td>2000-01-06</td>\n",
       "      <td>2000-02-05</td>\n",
       "      <td>30 days</td>\n",
       "      <td>56.937500</td>\n",
       "      <td>54.187500</td>\n",
       "      <td>56.093750</td>\n",
       "      <td>55.000000</td>\n",
       "      <td>54976600.0</td>\n",
       "      <td>34.933285</td>\n",
       "    </tr>\n",
       "    <tr>\n",
       "      <th>...</th>\n",
       "      <td>...</td>\n",
       "      <td>...</td>\n",
       "      <td>...</td>\n",
       "      <td>...</td>\n",
       "      <td>...</td>\n",
       "      <td>...</td>\n",
       "      <td>...</td>\n",
       "      <td>...</td>\n",
       "      <td>...</td>\n",
       "    </tr>\n",
       "    <tr>\n",
       "      <th>5280</th>\n",
       "      <td>2020-12-24</td>\n",
       "      <td>2021-01-23</td>\n",
       "      <td>30 days</td>\n",
       "      <td>223.610001</td>\n",
       "      <td>221.199997</td>\n",
       "      <td>221.419998</td>\n",
       "      <td>222.750000</td>\n",
       "      <td>10550600.0</td>\n",
       "      <td>222.238144</td>\n",
       "    </tr>\n",
       "    <tr>\n",
       "      <th>5281</th>\n",
       "      <td>2020-12-28</td>\n",
       "      <td>2021-01-27</td>\n",
       "      <td>30 days</td>\n",
       "      <td>226.029999</td>\n",
       "      <td>223.020004</td>\n",
       "      <td>224.449997</td>\n",
       "      <td>224.960007</td>\n",
       "      <td>17933500.0</td>\n",
       "      <td>224.443069</td>\n",
       "    </tr>\n",
       "    <tr>\n",
       "      <th>5282</th>\n",
       "      <td>2020-12-29</td>\n",
       "      <td>2021-01-28</td>\n",
       "      <td>30 days</td>\n",
       "      <td>227.179993</td>\n",
       "      <td>223.580002</td>\n",
       "      <td>226.309998</td>\n",
       "      <td>224.149994</td>\n",
       "      <td>17403200.0</td>\n",
       "      <td>223.634918</td>\n",
       "    </tr>\n",
       "    <tr>\n",
       "      <th>5283</th>\n",
       "      <td>2020-12-30</td>\n",
       "      <td>2021-01-29</td>\n",
       "      <td>30 days</td>\n",
       "      <td>225.630005</td>\n",
       "      <td>221.470001</td>\n",
       "      <td>225.229996</td>\n",
       "      <td>221.679993</td>\n",
       "      <td>20272300.0</td>\n",
       "      <td>221.170593</td>\n",
       "    </tr>\n",
       "    <tr>\n",
       "      <th>5284</th>\n",
       "      <td>2020-12-31</td>\n",
       "      <td>2021-01-30</td>\n",
       "      <td>30 days</td>\n",
       "      <td>223.000000</td>\n",
       "      <td>219.679993</td>\n",
       "      <td>221.699997</td>\n",
       "      <td>222.419998</td>\n",
       "      <td>20942100.0</td>\n",
       "      <td>221.908905</td>\n",
       "    </tr>\n",
       "  </tbody>\n",
       "</table>\n",
       "<p>5285 rows × 9 columns</p>\n",
       "</div>"
      ],
      "text/plain": [
       "           Date   New_Date Date_Diff        High         Low        Open  \\\n",
       "0    1999-12-31 2000-01-30   30 days   58.875000   58.125000   58.750000   \n",
       "1    2000-01-03 2000-02-02   30 days   59.312500   56.000000   58.687500   \n",
       "2    2000-01-04 2000-02-03   30 days   58.562500   56.125000   56.781250   \n",
       "3    2000-01-05 2000-02-04   30 days   58.187500   54.687500   55.562500   \n",
       "4    2000-01-06 2000-02-05   30 days   56.937500   54.187500   56.093750   \n",
       "...         ...        ...       ...         ...         ...         ...   \n",
       "5280 2020-12-24 2021-01-23   30 days  223.610001  221.199997  221.419998   \n",
       "5281 2020-12-28 2021-01-27   30 days  226.029999  223.020004  224.449997   \n",
       "5282 2020-12-29 2021-01-28   30 days  227.179993  223.580002  226.309998   \n",
       "5283 2020-12-30 2021-01-29   30 days  225.630005  221.470001  225.229996   \n",
       "5284 2020-12-31 2021-01-30   30 days  223.000000  219.679993  221.699997   \n",
       "\n",
       "           Close      Volume   Adj Close  \n",
       "0      58.375000  12517600.0   37.076923  \n",
       "1      58.281250  53228400.0   37.017384  \n",
       "2      56.312500  54119000.0   35.766914  \n",
       "3      56.906250  64059600.0   36.144032  \n",
       "4      55.000000  54976600.0   34.933285  \n",
       "...          ...         ...         ...  \n",
       "5280  222.750000  10550600.0  222.238144  \n",
       "5281  224.960007  17933500.0  224.443069  \n",
       "5282  224.149994  17403200.0  223.634918  \n",
       "5283  221.679993  20272300.0  221.170593  \n",
       "5284  222.419998  20942100.0  221.908905  \n",
       "\n",
       "[5285 rows x 9 columns]"
      ]
     },
     "execution_count": 115,
     "metadata": {},
     "output_type": "execute_result"
    }
   ],
   "source": [
    "stocks.insert(2, column='Date_Diff', value = (stocks['New_Date'] - stocks['Date']))\n",
    "\n",
    "stocks"
   ]
  },
  {
   "cell_type": "code",
   "execution_count": 116,
   "metadata": {},
   "outputs": [
    {
     "data": {
      "text/html": [
       "<div>\n",
       "<style scoped>\n",
       "    .dataframe tbody tr th:only-of-type {\n",
       "        vertical-align: middle;\n",
       "    }\n",
       "\n",
       "    .dataframe tbody tr th {\n",
       "        vertical-align: top;\n",
       "    }\n",
       "\n",
       "    .dataframe thead th {\n",
       "        text-align: right;\n",
       "    }\n",
       "</style>\n",
       "<table border=\"1\" class=\"dataframe\">\n",
       "  <thead>\n",
       "    <tr style=\"text-align: right;\">\n",
       "      <th></th>\n",
       "      <th>Date</th>\n",
       "      <th>New_Date</th>\n",
       "      <th>Date_Diff</th>\n",
       "      <th>High</th>\n",
       "      <th>Low</th>\n",
       "      <th>Open</th>\n",
       "      <th>Close</th>\n",
       "      <th>Volume</th>\n",
       "      <th>Adj Close</th>\n",
       "    </tr>\n",
       "  </thead>\n",
       "  <tbody>\n",
       "    <tr>\n",
       "      <th>0</th>\n",
       "      <td>1999-12-31</td>\n",
       "      <td>2000-01-30</td>\n",
       "      <td>30 days</td>\n",
       "      <td>58.875000</td>\n",
       "      <td>58.125000</td>\n",
       "      <td>58.750000</td>\n",
       "      <td>58.375000</td>\n",
       "      <td>12517600.0</td>\n",
       "      <td>37.076923</td>\n",
       "    </tr>\n",
       "    <tr>\n",
       "      <th>1</th>\n",
       "      <td>2000-01-03</td>\n",
       "      <td>2000-02-02</td>\n",
       "      <td>30 days</td>\n",
       "      <td>59.312500</td>\n",
       "      <td>56.000000</td>\n",
       "      <td>58.687500</td>\n",
       "      <td>58.281250</td>\n",
       "      <td>53228400.0</td>\n",
       "      <td>37.017384</td>\n",
       "    </tr>\n",
       "    <tr>\n",
       "      <th>2</th>\n",
       "      <td>2000-01-04</td>\n",
       "      <td>2000-02-03</td>\n",
       "      <td>30 days</td>\n",
       "      <td>58.562500</td>\n",
       "      <td>56.125000</td>\n",
       "      <td>56.781250</td>\n",
       "      <td>56.312500</td>\n",
       "      <td>54119000.0</td>\n",
       "      <td>35.766914</td>\n",
       "    </tr>\n",
       "    <tr>\n",
       "      <th>3</th>\n",
       "      <td>2000-01-05</td>\n",
       "      <td>2000-02-04</td>\n",
       "      <td>30 days</td>\n",
       "      <td>58.187500</td>\n",
       "      <td>54.687500</td>\n",
       "      <td>55.562500</td>\n",
       "      <td>56.906250</td>\n",
       "      <td>64059600.0</td>\n",
       "      <td>36.144032</td>\n",
       "    </tr>\n",
       "    <tr>\n",
       "      <th>4</th>\n",
       "      <td>2000-01-06</td>\n",
       "      <td>2000-02-05</td>\n",
       "      <td>30 days</td>\n",
       "      <td>56.937500</td>\n",
       "      <td>54.187500</td>\n",
       "      <td>56.093750</td>\n",
       "      <td>55.000000</td>\n",
       "      <td>54976600.0</td>\n",
       "      <td>34.933285</td>\n",
       "    </tr>\n",
       "    <tr>\n",
       "      <th>...</th>\n",
       "      <td>...</td>\n",
       "      <td>...</td>\n",
       "      <td>...</td>\n",
       "      <td>...</td>\n",
       "      <td>...</td>\n",
       "      <td>...</td>\n",
       "      <td>...</td>\n",
       "      <td>...</td>\n",
       "      <td>...</td>\n",
       "    </tr>\n",
       "    <tr>\n",
       "      <th>5280</th>\n",
       "      <td>2020-12-24</td>\n",
       "      <td>2021-01-23</td>\n",
       "      <td>30 days</td>\n",
       "      <td>223.610001</td>\n",
       "      <td>221.199997</td>\n",
       "      <td>221.419998</td>\n",
       "      <td>222.750000</td>\n",
       "      <td>10550600.0</td>\n",
       "      <td>222.238144</td>\n",
       "    </tr>\n",
       "    <tr>\n",
       "      <th>5281</th>\n",
       "      <td>2020-12-28</td>\n",
       "      <td>2021-01-27</td>\n",
       "      <td>30 days</td>\n",
       "      <td>226.029999</td>\n",
       "      <td>223.020004</td>\n",
       "      <td>224.449997</td>\n",
       "      <td>224.960007</td>\n",
       "      <td>17933500.0</td>\n",
       "      <td>224.443069</td>\n",
       "    </tr>\n",
       "    <tr>\n",
       "      <th>5282</th>\n",
       "      <td>2020-12-29</td>\n",
       "      <td>2021-01-28</td>\n",
       "      <td>30 days</td>\n",
       "      <td>227.179993</td>\n",
       "      <td>223.580002</td>\n",
       "      <td>226.309998</td>\n",
       "      <td>224.149994</td>\n",
       "      <td>17403200.0</td>\n",
       "      <td>223.634918</td>\n",
       "    </tr>\n",
       "    <tr>\n",
       "      <th>5283</th>\n",
       "      <td>2020-12-30</td>\n",
       "      <td>2021-01-29</td>\n",
       "      <td>30 days</td>\n",
       "      <td>225.630005</td>\n",
       "      <td>221.470001</td>\n",
       "      <td>225.229996</td>\n",
       "      <td>221.679993</td>\n",
       "      <td>20272300.0</td>\n",
       "      <td>221.170593</td>\n",
       "    </tr>\n",
       "    <tr>\n",
       "      <th>5284</th>\n",
       "      <td>2020-12-31</td>\n",
       "      <td>2021-01-30</td>\n",
       "      <td>30 days</td>\n",
       "      <td>223.000000</td>\n",
       "      <td>219.679993</td>\n",
       "      <td>221.699997</td>\n",
       "      <td>222.419998</td>\n",
       "      <td>20942100.0</td>\n",
       "      <td>221.908905</td>\n",
       "    </tr>\n",
       "  </tbody>\n",
       "</table>\n",
       "<p>5285 rows × 9 columns</p>\n",
       "</div>"
      ],
      "text/plain": [
       "           Date   New_Date Date_Diff        High         Low        Open  \\\n",
       "0    1999-12-31 2000-01-30   30 days   58.875000   58.125000   58.750000   \n",
       "1    2000-01-03 2000-02-02   30 days   59.312500   56.000000   58.687500   \n",
       "2    2000-01-04 2000-02-03   30 days   58.562500   56.125000   56.781250   \n",
       "3    2000-01-05 2000-02-04   30 days   58.187500   54.687500   55.562500   \n",
       "4    2000-01-06 2000-02-05   30 days   56.937500   54.187500   56.093750   \n",
       "...         ...        ...       ...         ...         ...         ...   \n",
       "5280 2020-12-24 2021-01-23   30 days  223.610001  221.199997  221.419998   \n",
       "5281 2020-12-28 2021-01-27   30 days  226.029999  223.020004  224.449997   \n",
       "5282 2020-12-29 2021-01-28   30 days  227.179993  223.580002  226.309998   \n",
       "5283 2020-12-30 2021-01-29   30 days  225.630005  221.470001  225.229996   \n",
       "5284 2020-12-31 2021-01-30   30 days  223.000000  219.679993  221.699997   \n",
       "\n",
       "           Close      Volume   Adj Close  \n",
       "0      58.375000  12517600.0   37.076923  \n",
       "1      58.281250  53228400.0   37.017384  \n",
       "2      56.312500  54119000.0   35.766914  \n",
       "3      56.906250  64059600.0   36.144032  \n",
       "4      55.000000  54976600.0   34.933285  \n",
       "...          ...         ...         ...  \n",
       "5280  222.750000  10550600.0  222.238144  \n",
       "5281  224.960007  17933500.0  224.443069  \n",
       "5282  224.149994  17403200.0  223.634918  \n",
       "5283  221.679993  20272300.0  221.170593  \n",
       "5284  222.419998  20942100.0  221.908905  \n",
       "\n",
       "[5285 rows x 9 columns]"
      ]
     },
     "execution_count": 116,
     "metadata": {},
     "output_type": "execute_result"
    }
   ],
   "source": [
    "stocks[stocks['Date_Diff'] == '30 days']"
   ]
  },
  {
   "cell_type": "code",
   "execution_count": 117,
   "metadata": {},
   "outputs": [
    {
     "data": {
      "text/html": [
       "<div>\n",
       "<style scoped>\n",
       "    .dataframe tbody tr th:only-of-type {\n",
       "        vertical-align: middle;\n",
       "    }\n",
       "\n",
       "    .dataframe tbody tr th {\n",
       "        vertical-align: top;\n",
       "    }\n",
       "\n",
       "    .dataframe thead th {\n",
       "        text-align: right;\n",
       "    }\n",
       "</style>\n",
       "<table border=\"1\" class=\"dataframe\">\n",
       "  <thead>\n",
       "    <tr style=\"text-align: right;\">\n",
       "      <th></th>\n",
       "      <th>Date</th>\n",
       "      <th>New_Date</th>\n",
       "      <th>Date_Diff</th>\n",
       "      <th>High</th>\n",
       "      <th>Low</th>\n",
       "      <th>Open</th>\n",
       "      <th>Close</th>\n",
       "      <th>Volume</th>\n",
       "      <th>Adj Close</th>\n",
       "    </tr>\n",
       "  </thead>\n",
       "  <tbody>\n",
       "    <tr>\n",
       "      <th>0</th>\n",
       "      <td>1999-12-31</td>\n",
       "      <td>2000-01-30</td>\n",
       "      <td>30 days</td>\n",
       "      <td>58.875000</td>\n",
       "      <td>58.125000</td>\n",
       "      <td>58.750000</td>\n",
       "      <td>58.375000</td>\n",
       "      <td>12517600.0</td>\n",
       "      <td>37.076923</td>\n",
       "    </tr>\n",
       "    <tr>\n",
       "      <th>1</th>\n",
       "      <td>2000-01-03</td>\n",
       "      <td>2000-02-02</td>\n",
       "      <td>30 days</td>\n",
       "      <td>59.312500</td>\n",
       "      <td>56.000000</td>\n",
       "      <td>58.687500</td>\n",
       "      <td>58.281250</td>\n",
       "      <td>53228400.0</td>\n",
       "      <td>37.017384</td>\n",
       "    </tr>\n",
       "    <tr>\n",
       "      <th>2</th>\n",
       "      <td>2000-01-04</td>\n",
       "      <td>2000-02-03</td>\n",
       "      <td>30 days</td>\n",
       "      <td>58.562500</td>\n",
       "      <td>56.125000</td>\n",
       "      <td>56.781250</td>\n",
       "      <td>56.312500</td>\n",
       "      <td>54119000.0</td>\n",
       "      <td>35.766914</td>\n",
       "    </tr>\n",
       "    <tr>\n",
       "      <th>3</th>\n",
       "      <td>2000-01-05</td>\n",
       "      <td>2000-02-04</td>\n",
       "      <td>30 days</td>\n",
       "      <td>58.187500</td>\n",
       "      <td>54.687500</td>\n",
       "      <td>55.562500</td>\n",
       "      <td>56.906250</td>\n",
       "      <td>64059600.0</td>\n",
       "      <td>36.144032</td>\n",
       "    </tr>\n",
       "    <tr>\n",
       "      <th>4</th>\n",
       "      <td>2000-01-06</td>\n",
       "      <td>2000-02-05</td>\n",
       "      <td>30 days</td>\n",
       "      <td>56.937500</td>\n",
       "      <td>54.187500</td>\n",
       "      <td>56.093750</td>\n",
       "      <td>55.000000</td>\n",
       "      <td>54976600.0</td>\n",
       "      <td>34.933285</td>\n",
       "    </tr>\n",
       "    <tr>\n",
       "      <th>...</th>\n",
       "      <td>...</td>\n",
       "      <td>...</td>\n",
       "      <td>...</td>\n",
       "      <td>...</td>\n",
       "      <td>...</td>\n",
       "      <td>...</td>\n",
       "      <td>...</td>\n",
       "      <td>...</td>\n",
       "      <td>...</td>\n",
       "    </tr>\n",
       "    <tr>\n",
       "      <th>5280</th>\n",
       "      <td>2020-12-24</td>\n",
       "      <td>2021-01-23</td>\n",
       "      <td>30 days</td>\n",
       "      <td>223.610001</td>\n",
       "      <td>221.199997</td>\n",
       "      <td>221.419998</td>\n",
       "      <td>222.750000</td>\n",
       "      <td>10550600.0</td>\n",
       "      <td>222.238144</td>\n",
       "    </tr>\n",
       "    <tr>\n",
       "      <th>5281</th>\n",
       "      <td>2020-12-28</td>\n",
       "      <td>2021-01-27</td>\n",
       "      <td>30 days</td>\n",
       "      <td>226.029999</td>\n",
       "      <td>223.020004</td>\n",
       "      <td>224.449997</td>\n",
       "      <td>224.960007</td>\n",
       "      <td>17933500.0</td>\n",
       "      <td>224.443069</td>\n",
       "    </tr>\n",
       "    <tr>\n",
       "      <th>5282</th>\n",
       "      <td>2020-12-29</td>\n",
       "      <td>2021-01-28</td>\n",
       "      <td>30 days</td>\n",
       "      <td>227.179993</td>\n",
       "      <td>223.580002</td>\n",
       "      <td>226.309998</td>\n",
       "      <td>224.149994</td>\n",
       "      <td>17403200.0</td>\n",
       "      <td>223.634918</td>\n",
       "    </tr>\n",
       "    <tr>\n",
       "      <th>5283</th>\n",
       "      <td>2020-12-30</td>\n",
       "      <td>2021-01-29</td>\n",
       "      <td>30 days</td>\n",
       "      <td>225.630005</td>\n",
       "      <td>221.470001</td>\n",
       "      <td>225.229996</td>\n",
       "      <td>221.679993</td>\n",
       "      <td>20272300.0</td>\n",
       "      <td>221.170593</td>\n",
       "    </tr>\n",
       "    <tr>\n",
       "      <th>5284</th>\n",
       "      <td>2020-12-31</td>\n",
       "      <td>2021-01-30</td>\n",
       "      <td>30 days</td>\n",
       "      <td>223.000000</td>\n",
       "      <td>219.679993</td>\n",
       "      <td>221.699997</td>\n",
       "      <td>222.419998</td>\n",
       "      <td>20942100.0</td>\n",
       "      <td>221.908905</td>\n",
       "    </tr>\n",
       "  </tbody>\n",
       "</table>\n",
       "<p>5285 rows × 9 columns</p>\n",
       "</div>"
      ],
      "text/plain": [
       "           Date   New_Date Date_Diff        High         Low        Open  \\\n",
       "0    1999-12-31 2000-01-30   30 days   58.875000   58.125000   58.750000   \n",
       "1    2000-01-03 2000-02-02   30 days   59.312500   56.000000   58.687500   \n",
       "2    2000-01-04 2000-02-03   30 days   58.562500   56.125000   56.781250   \n",
       "3    2000-01-05 2000-02-04   30 days   58.187500   54.687500   55.562500   \n",
       "4    2000-01-06 2000-02-05   30 days   56.937500   54.187500   56.093750   \n",
       "...         ...        ...       ...         ...         ...         ...   \n",
       "5280 2020-12-24 2021-01-23   30 days  223.610001  221.199997  221.419998   \n",
       "5281 2020-12-28 2021-01-27   30 days  226.029999  223.020004  224.449997   \n",
       "5282 2020-12-29 2021-01-28   30 days  227.179993  223.580002  226.309998   \n",
       "5283 2020-12-30 2021-01-29   30 days  225.630005  221.470001  225.229996   \n",
       "5284 2020-12-31 2021-01-30   30 days  223.000000  219.679993  221.699997   \n",
       "\n",
       "           Close      Volume   Adj Close  \n",
       "0      58.375000  12517600.0   37.076923  \n",
       "1      58.281250  53228400.0   37.017384  \n",
       "2      56.312500  54119000.0   35.766914  \n",
       "3      56.906250  64059600.0   36.144032  \n",
       "4      55.000000  54976600.0   34.933285  \n",
       "...          ...         ...         ...  \n",
       "5280  222.750000  10550600.0  222.238144  \n",
       "5281  224.960007  17933500.0  224.443069  \n",
       "5282  224.149994  17403200.0  223.634918  \n",
       "5283  221.679993  20272300.0  221.170593  \n",
       "5284  222.419998  20942100.0  221.908905  \n",
       "\n",
       "[5285 rows x 9 columns]"
      ]
     },
     "execution_count": 117,
     "metadata": {},
     "output_type": "execute_result"
    }
   ],
   "source": [
    "stocks[stocks['Date_Diff'] >= '20 days']"
   ]
  },
  {
   "cell_type": "code",
   "execution_count": 118,
   "metadata": {},
   "outputs": [
    {
     "data": {
      "text/html": [
       "<div>\n",
       "<style scoped>\n",
       "    .dataframe tbody tr th:only-of-type {\n",
       "        vertical-align: middle;\n",
       "    }\n",
       "\n",
       "    .dataframe tbody tr th {\n",
       "        vertical-align: top;\n",
       "    }\n",
       "\n",
       "    .dataframe thead th {\n",
       "        text-align: right;\n",
       "    }\n",
       "</style>\n",
       "<table border=\"1\" class=\"dataframe\">\n",
       "  <thead>\n",
       "    <tr style=\"text-align: right;\">\n",
       "      <th></th>\n",
       "      <th>Date</th>\n",
       "      <th>New_Date</th>\n",
       "      <th>Date_Diff</th>\n",
       "      <th>High</th>\n",
       "      <th>Low</th>\n",
       "      <th>Open</th>\n",
       "      <th>Close</th>\n",
       "      <th>Volume</th>\n",
       "      <th>Adj Close</th>\n",
       "    </tr>\n",
       "  </thead>\n",
       "  <tbody>\n",
       "  </tbody>\n",
       "</table>\n",
       "</div>"
      ],
      "text/plain": [
       "Empty DataFrame\n",
       "Columns: [Date, New_Date, Date_Diff, High, Low, Open, Close, Volume, Adj Close]\n",
       "Index: []"
      ]
     },
     "execution_count": 118,
     "metadata": {},
     "output_type": "execute_result"
    }
   ],
   "source": [
    "stocks[stocks['Date_Diff'] < '30 days']"
   ]
  },
  {
   "cell_type": "code",
   "execution_count": null,
   "metadata": {},
   "outputs": [],
   "source": []
  }
 ],
 "metadata": {
  "kernelspec": {
   "display_name": "Python 3",
   "language": "python",
   "name": "python3"
  },
  "language_info": {
   "codemirror_mode": {
    "name": "ipython",
    "version": 3
   },
   "file_extension": ".py",
   "mimetype": "text/x-python",
   "name": "python",
   "nbconvert_exporter": "python",
   "pygments_lexer": "ipython3",
   "version": "3.7.6"
  }
 },
 "nbformat": 4,
 "nbformat_minor": 4
}
